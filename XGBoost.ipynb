{
 "cells": [
  {
   "cell_type": "markdown",
   "metadata": {},
   "source": [
    "# XGBoost"
   ]
  },
  {
   "cell_type": "code",
   "execution_count": 308,
   "metadata": {},
   "outputs": [],
   "source": [
    "import numpy as np\n",
    "import pandas as pd\n",
    "import xgboost as xgb"
   ]
  },
  {
   "cell_type": "code",
   "execution_count": 309,
   "metadata": {},
   "outputs": [
    {
     "name": "stdout",
     "output_type": "stream",
     "text": [
      "0.7.post3\n"
     ]
    }
   ],
   "source": [
    "print(xgb.__version__)"
   ]
  },
  {
   "cell_type": "markdown",
   "metadata": {},
   "source": [
    "## Pipelines\n",
    "\n",
    "* Takes a list of named 2-tuples `(name, pipeline_step)` as input\n",
    "* Tuples can contain any arbitrary scikit-learn compatible estimator or transformer object\n",
    "* Pipeline implements fit/predict methods\n",
    "* Can be used as input estimator into grid/randomized search and `cross_val_score` methods\n",
    "\n",
    "\n",
    "### Scikit-learn pipeline example"
   ]
  },
  {
   "cell_type": "code",
   "execution_count": 310,
   "metadata": {},
   "outputs": [],
   "source": [
    "from sklearn.ensemble import RandomForestRegressor\n",
    "from sklearn.preprocessing import StandardScaler\n",
    "from sklearn.pipeline import Pipeline\n",
    "from sklearn.model_selection import cross_val_score\n",
    "\n",
    "from sklearn.datasets import load_boston"
   ]
  },
  {
   "cell_type": "code",
   "execution_count": 315,
   "metadata": {},
   "outputs": [
    {
     "name": "stdout",
     "output_type": "stream",
     "text": [
      "0.19.1\n"
     ]
    }
   ],
   "source": [
    "import sklearn\n",
    "print(sklearn.__version__)"
   ]
  },
  {
   "cell_type": "code",
   "execution_count": 328,
   "metadata": {},
   "outputs": [],
   "source": [
    "# names = ['crime', 'zone', 'industry', 'charles',\n",
    "#          'no', 'rooms', 'age', 'distance', 'radial',\n",
    "#          'tax', 'pupil', 'sam', 'lower', 'med_price']\n",
    "\n",
    "from sklearn.metrics import r2_score, make_scorer\n",
    "r2_scorer = make_scorer(r2_score)\n",
    "\n",
    "X, y = load_boston(return_X_y=True)\n",
    "\n",
    "rf_pipeline = Pipeline([(\"st_scaler\", StandardScaler()),\n",
    "                       (\"rf_model\", RandomForestRegressor())])\n",
    "\n",
    "scores = cross_val_score(rf_pipeline, X, y,\n",
    "                         scoring=r2_scorer, cv=10)"
   ]
  },
  {
   "cell_type": "code",
   "execution_count": 330,
   "metadata": {},
   "outputs": [
    {
     "name": "stdout",
     "output_type": "stream",
     "text": [
      "Final R2: 0.7290584971633406\n"
     ]
    }
   ],
   "source": [
    "final_avg_rmse = np.mean(np.sqrt(np.abs(scores)))\n",
    "print(\"Final R2:\", final_avg_rmse)"
   ]
  },
  {
   "cell_type": "markdown",
   "metadata": {},
   "source": [
    "### Preprocessing I: `LabelEncoder` and `OneHotEncoder`\n",
    "\n",
    "* `LabelEncoder` converts a categorical column of strings into integers\n",
    "* `OneHotEncoder` takes the column of integers and encodes them as dummy variables\n",
    "* Cannot be done within a pipeline"
   ]
  },
  {
   "cell_type": "markdown",
   "metadata": {},
   "source": [
    "### Preprocessing II: `DictVectorizer`\n",
    "* Can do both from above\n",
    "* Traditionally used in text processing\n",
    "* Converts lists of feature mappings into vectors\n",
    "* Need to convert DataFrame into a list of dictionary entries"
   ]
  },
  {
   "cell_type": "markdown",
   "metadata": {},
   "source": [
    "### Ames Housing Exercise"
   ]
  },
  {
   "cell_type": "code",
   "execution_count": 23,
   "metadata": {},
   "outputs": [
    {
     "name": "stdout",
     "output_type": "stream",
     "text": [
      "downloading https://www.kaggle.com/c/house-prices-advanced-regression-techniques/download/data_description.txt\n",
      "\n",
      "data_description.txt 100% |##########################| Time: 0:00:01   9.1 KiB/s\n",
      "\n",
      "downloading https://www.kaggle.com/c/house-prices-advanced-regression-techniques/download/train.csv.gz\n",
      "\n",
      "train.csv.gz 100% |##################################| Time: 0:00:00 126.5 KiB/s\n",
      "\n",
      "downloading https://www.kaggle.com/c/house-prices-advanced-regression-techniques/download/train.csv\n",
      "\n",
      "train.csv 100% |#####################################| Time: 0:00:01 272.2 KiB/s\n",
      "\n",
      "downloading https://www.kaggle.com/c/house-prices-advanced-regression-techniques/download/test.csv.gz\n",
      "\n",
      "test.csv.gz 100% |###################################| Time: 0:00:00  98.8 KiB/s\n",
      "\n",
      "downloading https://www.kaggle.com/c/house-prices-advanced-regression-techniques/download/test.csv\n",
      "\n",
      "test.csv 100% |######################################| Time: 0:00:01 256.3 KiB/s\n",
      "\n",
      "downloading https://www.kaggle.com/c/house-prices-advanced-regression-techniques/download/sample_submission.csv.gz\n",
      "\n",
      "sample_submission.csv.gz 100% |######################| Time: 0:00:00  23.7 KiB/s\n",
      "\n",
      "downloading https://www.kaggle.com/c/house-prices-advanced-regression-techniques/download/sample_submission.csv\n",
      "\n",
      "sample_submission.csv 100% |#########################| Time: 0:00:00  38.6 KiB/s\n",
      "\n"
     ]
    }
   ],
   "source": [
    "!kg download -u neiljelmert -p DrummA13!? -c house-prices-advanced-regression-techniques"
   ]
  },
  {
   "cell_type": "code",
   "execution_count": 5,
   "metadata": {},
   "outputs": [],
   "source": [
    "df = pd.read_csv('train.csv')"
   ]
  },
  {
   "cell_type": "code",
   "execution_count": 6,
   "metadata": {},
   "outputs": [
    {
     "data": {
      "text/html": [
       "<div>\n",
       "<style scoped>\n",
       "    .dataframe tbody tr th:only-of-type {\n",
       "        vertical-align: middle;\n",
       "    }\n",
       "\n",
       "    .dataframe tbody tr th {\n",
       "        vertical-align: top;\n",
       "    }\n",
       "\n",
       "    .dataframe thead th {\n",
       "        text-align: right;\n",
       "    }\n",
       "</style>\n",
       "<table border=\"1\" class=\"dataframe\">\n",
       "  <thead>\n",
       "    <tr style=\"text-align: right;\">\n",
       "      <th></th>\n",
       "      <th>Id</th>\n",
       "      <th>MSSubClass</th>\n",
       "      <th>MSZoning</th>\n",
       "      <th>LotFrontage</th>\n",
       "      <th>LotArea</th>\n",
       "      <th>Street</th>\n",
       "      <th>Alley</th>\n",
       "      <th>LotShape</th>\n",
       "      <th>LandContour</th>\n",
       "      <th>Utilities</th>\n",
       "      <th>...</th>\n",
       "      <th>PoolArea</th>\n",
       "      <th>PoolQC</th>\n",
       "      <th>Fence</th>\n",
       "      <th>MiscFeature</th>\n",
       "      <th>MiscVal</th>\n",
       "      <th>MoSold</th>\n",
       "      <th>YrSold</th>\n",
       "      <th>SaleType</th>\n",
       "      <th>SaleCondition</th>\n",
       "      <th>SalePrice</th>\n",
       "    </tr>\n",
       "  </thead>\n",
       "  <tbody>\n",
       "    <tr>\n",
       "      <th>0</th>\n",
       "      <td>1</td>\n",
       "      <td>60</td>\n",
       "      <td>RL</td>\n",
       "      <td>65.0</td>\n",
       "      <td>8450</td>\n",
       "      <td>Pave</td>\n",
       "      <td>NaN</td>\n",
       "      <td>Reg</td>\n",
       "      <td>Lvl</td>\n",
       "      <td>AllPub</td>\n",
       "      <td>...</td>\n",
       "      <td>0</td>\n",
       "      <td>NaN</td>\n",
       "      <td>NaN</td>\n",
       "      <td>NaN</td>\n",
       "      <td>0</td>\n",
       "      <td>2</td>\n",
       "      <td>2008</td>\n",
       "      <td>WD</td>\n",
       "      <td>Normal</td>\n",
       "      <td>208500</td>\n",
       "    </tr>\n",
       "    <tr>\n",
       "      <th>1</th>\n",
       "      <td>2</td>\n",
       "      <td>20</td>\n",
       "      <td>RL</td>\n",
       "      <td>80.0</td>\n",
       "      <td>9600</td>\n",
       "      <td>Pave</td>\n",
       "      <td>NaN</td>\n",
       "      <td>Reg</td>\n",
       "      <td>Lvl</td>\n",
       "      <td>AllPub</td>\n",
       "      <td>...</td>\n",
       "      <td>0</td>\n",
       "      <td>NaN</td>\n",
       "      <td>NaN</td>\n",
       "      <td>NaN</td>\n",
       "      <td>0</td>\n",
       "      <td>5</td>\n",
       "      <td>2007</td>\n",
       "      <td>WD</td>\n",
       "      <td>Normal</td>\n",
       "      <td>181500</td>\n",
       "    </tr>\n",
       "  </tbody>\n",
       "</table>\n",
       "<p>2 rows × 81 columns</p>\n",
       "</div>"
      ],
      "text/plain": [
       "   Id  MSSubClass MSZoning  LotFrontage  LotArea Street Alley LotShape  \\\n",
       "0   1          60       RL         65.0     8450   Pave   NaN      Reg   \n",
       "1   2          20       RL         80.0     9600   Pave   NaN      Reg   \n",
       "\n",
       "  LandContour Utilities    ...     PoolArea PoolQC Fence MiscFeature MiscVal  \\\n",
       "0         Lvl    AllPub    ...            0    NaN   NaN         NaN       0   \n",
       "1         Lvl    AllPub    ...            0    NaN   NaN         NaN       0   \n",
       "\n",
       "  MoSold YrSold  SaleType  SaleCondition  SalePrice  \n",
       "0      2   2008        WD         Normal     208500  \n",
       "1      5   2007        WD         Normal     181500  \n",
       "\n",
       "[2 rows x 81 columns]"
      ]
     },
     "execution_count": 6,
     "metadata": {},
     "output_type": "execute_result"
    }
   ],
   "source": [
    "df.head(2)"
   ]
  },
  {
   "cell_type": "code",
   "execution_count": 7,
   "metadata": {},
   "outputs": [],
   "source": [
    "# Import LabelEncoder\n",
    "from sklearn.preprocessing import LabelEncoder\n",
    "\n",
    "# Fill missing values with 0\n",
    "# df = df.fillna(0)\n",
    "\n",
    "# Create a boolean mask for categorical columns\n",
    "categorical_mask = (df.dtypes == object)\n",
    "\n",
    "# Get list of categorical column names\n",
    "categorical_columns = df.columns[categorical_mask].tolist()\n",
    "continuous_columns = df.columns[~categorical_mask].tolist()\n",
    "\n",
    "df[categorical_columns] = df[categorical_columns].fillna(\"null_value\")\n",
    "df[continuous_columns] = df[continuous_columns].fillna(df.mean())"
   ]
  },
  {
   "cell_type": "code",
   "execution_count": 8,
   "metadata": {},
   "outputs": [
    {
     "name": "stdout",
     "output_type": "stream",
     "text": [
      "   MSZoning  Street  Alley  LotShape  LandContour  Utilities  LotConfig  \\\n",
      "0         3       1      2         3            3          0          4   \n",
      "\n",
      "   LandSlope  Neighborhood  Condition1      ...        GarageType  \\\n",
      "0          0             5           2      ...                 1   \n",
      "\n",
      "   GarageFinish  GarageQual  GarageCond  PavedDrive  PoolQC  Fence  \\\n",
      "0             1           4           4           2       3      4   \n",
      "\n",
      "   MiscFeature  SaleType  SaleCondition  \n",
      "0            4         8              4  \n",
      "\n",
      "[1 rows x 43 columns]\n"
     ]
    }
   ],
   "source": [
    "# Print the head of the categorical columns\n",
    "# print(df[categorical_columns].head())\n",
    "\n",
    "# Create LabelEncoder object: le\n",
    "le = LabelEncoder()\n",
    "\n",
    "# Apply LabelEncoder to categorical columns\n",
    "df[categorical_columns] = df[categorical_columns]\\\n",
    "                            .apply(lambda x: le.fit_transform(x))\n",
    "\n",
    "# Print the head of the LabelEncoded categorical columns\n",
    "print(df[categorical_columns].head(1))"
   ]
  },
  {
   "cell_type": "markdown",
   "metadata": {},
   "source": [
    "### Note:\n",
    "* `LabelEncoder` can force the assumption of ordered data, which can lead a model to poor performance\n",
    "* As another step, we need to apply a one-hot-encoding to create binary variables"
   ]
  },
  {
   "cell_type": "code",
   "execution_count": 9,
   "metadata": {},
   "outputs": [
    {
     "name": "stdout",
     "output_type": "stream",
     "text": [
      "[[0. 0. 0. 1. 0. 0. 1. 0. 0. 1.]]\n",
      "(1460, 81)\n"
     ]
    }
   ],
   "source": [
    "# Import OneHotEncoder\n",
    "from sklearn.preprocessing import OneHotEncoder\n",
    "\n",
    "ohe = OneHotEncoder(categorical_features=categorical_mask,\n",
    "                    sparse=False)\n",
    "\n",
    "# Apply OneHotEncoder to categorical columns\n",
    "# output is no longer a dataframe: df_encoded\n",
    "df_encoded = ohe.fit_transform(df)\n",
    "\n",
    "# Print first 2 rows of the resulting dataset\n",
    "print(df_encoded[:1, :10])\n",
    "\n",
    "# Print the shape of the original DataFrame\n",
    "print(df.shape)"
   ]
  },
  {
   "cell_type": "markdown",
   "metadata": {},
   "source": [
    "### DictVectorizer\n",
    "* The two-step process `LabelEncoder` --> `OneHotEncoder` can be simplified by using `DictVectorizer`\n",
    "* Using `DictVectorizer` on a DataFrame that has been converted to a dictionary allows you to get label encoding as well as one-hot-encoding in one go"
   ]
  },
  {
   "cell_type": "code",
   "execution_count": 10,
   "metadata": {},
   "outputs": [],
   "source": [
    "# Import DictVectorizer\n",
    "from sklearn.feature_extraction import DictVectorizer\n",
    "\n",
    "# Reload data\n",
    "df = pd.read_csv('train.csv')\n",
    "\n",
    "# Create a boolean mask for categorical columns\n",
    "categorical_mask = (df.dtypes == object)\n",
    "\n",
    "# Get list of categorical column names\n",
    "categorical_columns = df.columns[categorical_mask].tolist()\n",
    "continuous_columns = df.columns[~categorical_mask].tolist()\n",
    "\n",
    "# Fill NaNs\n",
    "df[categorical_columns] = df[categorical_columns].fillna(\"null_value\")\n",
    "df[continuous_columns] = df[continuous_columns].fillna(df.mean())\n",
    "\n",
    "# Convert df into a dictionary: df_dict\n",
    "df_dict = df.to_dict(orient = \"records\")\n",
    "\n",
    "# Create the DictVectorizer object: dv\n",
    "dv = DictVectorizer(sparse=False)\n",
    "\n",
    "# Apply dv on df: df_encoded\n",
    "df_encoded = dv.fit_transform(df_dict)\n",
    "\n",
    "# Print the resulting first five rows\n",
    "# print(df_encoded[:1,:2])\n",
    "\n",
    "# Print the vocabulary\n",
    "# print(dv.vocabulary_)"
   ]
  },
  {
   "cell_type": "code",
   "execution_count": 11,
   "metadata": {},
   "outputs": [
    {
     "data": {
      "text/plain": [
       "(1460, 306)"
      ]
     },
     "execution_count": 11,
     "metadata": {},
     "output_type": "execute_result"
    }
   ],
   "source": [
    "df_encoded.shape"
   ]
  },
  {
   "cell_type": "markdown",
   "metadata": {},
   "source": [
    "### Preprocessing with a pipeline\n",
    "* A cleaner and more succinct `DictVectorizer` approach integrated with `XGBoostRegressor` inside of a scikit-learn pipeline"
   ]
  },
  {
   "cell_type": "code",
   "execution_count": 12,
   "metadata": {},
   "outputs": [],
   "source": [
    "# Import necessary modules\n",
    "from sklearn.feature_extraction import DictVectorizer\n",
    "from sklearn.pipeline import Pipeline\n",
    "\n",
    "# Reload & clean data\n",
    "def load_clean(train, test):\n",
    "    \n",
    "    df_train = pd.read_csv(train)\n",
    "    df_test = pd.read_csv(test)\n",
    "    \n",
    "    df = pd.concat([df_train, df_test], axis=0)\n",
    "    \n",
    "    start = df_test.shape[0]\n",
    "\n",
    "    # Create a boolean mask for categorical columns\n",
    "    categorical_mask = (df.dtypes == object)\n",
    "\n",
    "    # Get list of categorical column names\n",
    "    categorical_columns = df.columns[categorical_mask].tolist()\n",
    "    continuous_columns = df.columns[~categorical_mask].tolist()\n",
    "\n",
    "    # Fill NaNs\n",
    "    df[categorical_columns] = df[categorical_columns].fillna(\"null_value\")\n",
    "    df[continuous_columns] = df[continuous_columns].fillna(df.mean())\n",
    "\n",
    "    df_train = df.iloc[:start+1,:]\n",
    "    df_test = df.iloc[start+1:,:]\n",
    "    \n",
    "    X_train = df_train.drop(['SalePrice'], axis=1)\n",
    "    y_train = df_train['SalePrice']\n",
    "    X_test = df_test.drop(['SalePrice'], axis=1)\n",
    "    y_test = df_test['SalePrice']\n",
    "    \n",
    "    return X_train, y_train, X_test, y_test\n",
    "\n",
    "X_train, y_train, X_test, y_test = load_clean(\"train.csv\", \"test.csv\")"
   ]
  },
  {
   "cell_type": "code",
   "execution_count": 13,
   "metadata": {},
   "outputs": [
    {
     "name": "stdout",
     "output_type": "stream",
     "text": [
      "(1460, 80) (1459, 80)\n"
     ]
    }
   ],
   "source": [
    "print(X_train.shape, X_test.shape)"
   ]
  },
  {
   "cell_type": "code",
   "execution_count": 14,
   "metadata": {},
   "outputs": [
    {
     "data": {
      "text/plain": [
       "Pipeline(memory=None,\n",
       "     steps=[('dvectorizer', DictVectorizer(dtype=<class 'numpy.float64'>, separator='=', sort=True,\n",
       "        sparse=False)), ('xgb_model', XGBRegressor(base_score=0.5, booster='gbtree', colsample_bylevel=1,\n",
       "       colsample_bytree=1, gamma=0, learning_rate=0.1, max_delta_step=0,\n",
       "       max_depth=3, min_ch...\n",
       "       reg_alpha=0, reg_lambda=1, scale_pos_weight=1, seed=None,\n",
       "       silent=True, subsample=1))])"
      ]
     },
     "execution_count": 14,
     "metadata": {},
     "output_type": "execute_result"
    }
   ],
   "source": [
    "steps = [(\"dvectorizer\", DictVectorizer(sparse=False)),\n",
    "         (\"xgb_model\", xgb.XGBRegressor())]\n",
    "\n",
    "# Create the pipeline\n",
    "xgb_pipeline = Pipeline(steps)\n",
    "\n",
    "# Fit the pipeline\n",
    "xgb_pipeline.fit(X_train.to_dict(orient=\"records\"), y_train)"
   ]
  },
  {
   "cell_type": "code",
   "execution_count": 15,
   "metadata": {},
   "outputs": [
    {
     "data": {
      "text/plain": [
       "array([123025.49, 162792.72, 175003.03, ..., 160798.  , 118364.26,\n",
       "       235553.08], dtype=float32)"
      ]
     },
     "execution_count": 15,
     "metadata": {},
     "output_type": "execute_result"
    }
   ],
   "source": [
    "y_pred = xgb_pipeline.predict(X_test.to_dict(\"records\"))\n",
    "y_pred"
   ]
  },
  {
   "cell_type": "code",
   "execution_count": 16,
   "metadata": {},
   "outputs": [
    {
     "data": {
      "text/plain": [
       "0.962714277784092"
      ]
     },
     "execution_count": 16,
     "metadata": {},
     "output_type": "execute_result"
    }
   ],
   "source": [
    "xgb_pipeline.score(X_train.to_dict(\"records\"), y_train)"
   ]
  },
  {
   "cell_type": "markdown",
   "metadata": {},
   "source": [
    "## Incorporating XGBoost into Pipelines"
   ]
  },
  {
   "cell_type": "code",
   "execution_count": 17,
   "metadata": {},
   "outputs": [],
   "source": [
    "X, y = load_boston(True)\n",
    "\n",
    "xgb_pipeline = Pipeline([(\"st_scaler\", StandardScaler()),\n",
    "                       (\"xgb_model\", xgb.XGBRegressor())])\n",
    "\n",
    "scores = cross_val_score(xgb_pipeline, X, y,\n",
    "                         scoring=\"neg_mean_squared_error\", cv=10)"
   ]
  },
  {
   "cell_type": "code",
   "execution_count": 18,
   "metadata": {},
   "outputs": [
    {
     "name": "stdout",
     "output_type": "stream",
     "text": [
      "Final RMSE: 4.000554517118832\n"
     ]
    }
   ],
   "source": [
    "final_avg_rmse = np.mean(np.sqrt(np.abs(scores)))\n",
    "print(\"Final RMSE:\", final_avg_rmse)"
   ]
  },
  {
   "cell_type": "markdown",
   "metadata": {},
   "source": [
    "## Additional Components for Pipelines\n",
    "\n",
    "* `sklearn_pandas`:\n",
    "    * `DataFrameMapper` - interpretability between `pandas` and `scikit-learn`\n",
    "    * `CategoricalImputer` - Allow for imputation of categorical variables before integer conversion\n",
    "* `sklearn.preprocessing`:\n",
    "    * `Imputer` - Native implementation of numerical columns in scikit-learn\n",
    "* `sklearn.pipeline`:\n",
    "    * `FeatureUnion` - combine multiple pipelines of features into a single pipeline of features\n",
    "    \n",
    "    \n",
    "### Cross-validating XGBoost"
   ]
  },
  {
   "cell_type": "code",
   "execution_count": 19,
   "metadata": {},
   "outputs": [
    {
     "name": "stdout",
     "output_type": "stream",
     "text": [
      "10-fold RMSE:  27167.271204387205\n"
     ]
    }
   ],
   "source": [
    "from sklearn.feature_extraction import DictVectorizer\n",
    "from sklearn.pipeline import Pipeline\n",
    "from sklearn.model_selection import cross_val_score\n",
    "\n",
    "X_train, y_train, X_test, y_test = load_clean(\"train.csv\", \"test.csv\")\n",
    "\n",
    "steps = [(\"dict_vect\", DictVectorizer(sparse=False)),\n",
    "         (\"xgb_model\", xgb.XGBRegressor(max_depth=2, \n",
    "                                        objective=\"reg:linear\")\n",
    "         )]\n",
    "\n",
    "xgb_pipeline = Pipeline(steps)\n",
    "\n",
    "cross_val_scores = cross_val_score(xgb_pipeline,\n",
    "                                   X_train.to_dict(orient=\"records\"),\n",
    "                                   y_train,\n",
    "                                   cv=10,\n",
    "                                   scoring=\"neg_mean_squared_error\")\n",
    "\n",
    "print(\"10-fold RMSE: \", np.mean(np.sqrt(np.abs(cross_val_scores))))"
   ]
  },
  {
   "cell_type": "markdown",
   "metadata": {},
   "source": [
    "### Categorical Imputer"
   ]
  },
  {
   "cell_type": "code",
   "execution_count": 25,
   "metadata": {},
   "outputs": [
    {
     "name": "stdout",
     "output_type": "stream",
     "text": [
      "--2018-03-16 17:25:52--  https://archive.ics.uci.edu/ml/machine-learning-databases/00336/Chronic_Kidney_Disease.rar\n",
      "Resolving archive.ics.uci.edu (archive.ics.uci.edu)... 128.195.10.249\n",
      "Connecting to archive.ics.uci.edu (archive.ics.uci.edu)|128.195.10.249|:443... connected.\n",
      "HTTP request sent, awaiting response... 200 OK\n",
      "Length: 19260 (19K) [text/plain]\n",
      "Saving to: ‘Chronic_Kidney_Disease.rar’\n",
      "\n",
      "Chronic_Kidney_Dise 100%[===================>]  18.81K  --.-KB/s    in 0.02s   \n",
      "\n",
      "2018-03-16 17:25:52 (793 KB/s) - ‘Chronic_Kidney_Disease.rar’ saved [19260/19260]\n",
      "\n"
     ]
    }
   ],
   "source": [
    "!wget https://archive.ics.uci.edu/ml/machine-learning-databases/00336/Chronic_Kidney_Disease.rar"
   ]
  },
  {
   "cell_type": "code",
   "execution_count": 20,
   "metadata": {},
   "outputs": [],
   "source": [
    "from unrar import rarfile\n",
    "rar = rarfile.RarFile('/Users/neiljelmert/Desktop/Projects/DataCamp/Chronic_Kidney_Disease.rar')"
   ]
  },
  {
   "cell_type": "code",
   "execution_count": 21,
   "metadata": {},
   "outputs": [
    {
     "data": {
      "text/plain": [
       "['Chronic_Kidney_Disease/chronic_kidney_disease.arff',\n",
       " 'Chronic_Kidney_Disease/chronic_kidney_disease.info.txt',\n",
       " 'Chronic_Kidney_Disease/chronic_kidney_disease_full.arff',\n",
       " 'Chronic_Kidney_Disease']"
      ]
     },
     "execution_count": 21,
     "metadata": {},
     "output_type": "execute_result"
    }
   ],
   "source": [
    "rar.namelist()"
   ]
  },
  {
   "cell_type": "code",
   "execution_count": 34,
   "metadata": {},
   "outputs": [],
   "source": [
    "rar.extractall()"
   ]
  },
  {
   "cell_type": "code",
   "execution_count": 55,
   "metadata": {},
   "outputs": [],
   "source": [
    "from scipy.io import arff\n",
    "# from io import StringIO\n",
    "\n",
    "path = 'Chronic_Kidney_Disease/chronic_kidney_disease.arff'\n",
    "\n",
    "# f = open(path, 'r')\n",
    "# data, meta = arff.loadarff(f)"
   ]
  },
  {
   "cell_type": "code",
   "execution_count": 152,
   "metadata": {},
   "outputs": [],
   "source": [
    "data = arff.loadarff(path)\n",
    "df = pd.DataFrame(data[0])\n",
    "\n",
    "X = df.iloc[:,:-1]\n",
    "y = df.iloc[:,-1]"
   ]
  },
  {
   "cell_type": "code",
   "execution_count": null,
   "metadata": {},
   "outputs": [],
   "source": []
  },
  {
   "cell_type": "code",
   "execution_count": 163,
   "metadata": {},
   "outputs": [],
   "source": [
    "# y = pd.factorize(y.values)[0].reshape(-1, 1)"
   ]
  },
  {
   "cell_type": "code",
   "execution_count": 300,
   "metadata": {},
   "outputs": [],
   "source": [
    "X, y, X_test, y_test = load_clean(\"train.csv\", \"test.csv\")\n",
    "y = y > y.mean()\n",
    "# y = pd.factorize(y.values)[0].reshape(-1, 1)\n",
    "\n",
    "from sklearn_pandas import DataFrameMapper\n",
    "from sklearn_pandas import CategoricalImputer\n",
    "from sklearn.preprocessing.imputation import Imputer\n",
    "\n",
    "# Check number of nulls in each feature\n",
    "nulls_per_column = X.isnull().sum()\n",
    "# print(nulls_per_column)\n",
    "\n",
    "# Create a boolean mask for categorical columns\n",
    "categorical_feature_mask = X.dtypes == object\n",
    "\n",
    "# Get list of categorical column names\n",
    "categorical_columns = X.columns[categorical_feature_mask].tolist()\n",
    "\n",
    "# Get list of numeric column names\n",
    "numeric_columns = X.columns[~categorical_feature_mask].tolist()\n",
    "\n",
    "# Apply numeric imputer\n",
    "map_num = [\n",
    "           ([numeric_feature],\n",
    "            Imputer(strategy=\"median\")) for numeric_feature in\n",
    "            numeric_columns\n",
    "            ]\n",
    "        \n",
    "numeric_imputation_mapper = DataFrameMapper(map_num,\n",
    "                                            input_df=True,\n",
    "                                            df_out=True)\n",
    "\n",
    "# Apply categorical imputer\n",
    "map_cat = [\n",
    "            ([category_feature],\n",
    "             CategoricalImputer()) for category_feature in\n",
    "             categorical_columns\n",
    "            ]\n",
    "\n",
    "categorical_imputation_mapper = DataFrameMapper(map_cat,\n",
    "                                                input_df=True,\n",
    "                                                df_out=True)"
   ]
  },
  {
   "cell_type": "markdown",
   "metadata": {},
   "source": [
    "### Feature Union\n",
    "\n",
    "* Use `FeatureUnion` to concatenate the results of numeric and categorical imputation"
   ]
  },
  {
   "cell_type": "code",
   "execution_count": 301,
   "metadata": {},
   "outputs": [],
   "source": [
    "from sklearn.pipeline import FeatureUnion"
   ]
  },
  {
   "cell_type": "code",
   "execution_count": 302,
   "metadata": {},
   "outputs": [],
   "source": [
    "fu = [(\"num_mapper\", numeric_imputation_mapper),\n",
    "      (\"cat_mapper\", categorical_imputation_mapper)]\n",
    "numeric_categorical_union = FeatureUnion(fu)"
   ]
  },
  {
   "cell_type": "markdown",
   "metadata": {},
   "source": [
    "### Full Pipeline"
   ]
  },
  {
   "cell_type": "code",
   "execution_count": 348,
   "metadata": {},
   "outputs": [],
   "source": [
    "from sklearn.base import BaseEstimator, TransformerMixin\n",
    "\n",
    "class Dictifier(BaseEstimator, TransformerMixin):\n",
    "    \n",
    "    def __init__(self):\n",
    "        pass\n",
    "    \n",
    "    def fit(self, X, y=None):\n",
    "        return self\n",
    "    \n",
    "    def transform(self, X):\n",
    "        if type(X) == pd.core.frame.DataFrame:\n",
    "            return X.to_dict(orient=\"records\")\n",
    "        else:\n",
    "            return pd.DataFrame(X).to_dict(orient=\"records\")\n",
    "        \n",
    "    def fit_transform(self, X, y=None, **fit_params):\n",
    "        if y is None:\n",
    "            return self.fit(X, **fit_params).transform(X)\n",
    "        else:\n",
    "            return self.fit(X, y, **fit_params).transform(X)"
   ]
  },
  {
   "cell_type": "code",
   "execution_count": 349,
   "metadata": {},
   "outputs": [],
   "source": [
    "# y.unique()\n",
    "# y_bin = y.apply(lambda x: 0 if x==b'ckd' else 1)"
   ]
  },
  {
   "cell_type": "code",
   "execution_count": 350,
   "metadata": {},
   "outputs": [
    {
     "name": "stdout",
     "output_type": "stream",
     "text": [
      "3-fold AUC:  0.979747091407433\n",
      "[0.98511586 0.9826738  0.97145161]\n"
     ]
    }
   ],
   "source": [
    "pipeline = Pipeline([\n",
    "                        (\"num_cat_union\", numeric_categorical_union),\n",
    "                        (\"dictifier\", Dictifier()),\n",
    "                        (\"vectorizer\", DictVectorizer(sort=False)),\n",
    "                        (\"xgb_model\", xgb.XGBClassifier())\n",
    "                    ])\n",
    "\n",
    "cross_val_scores = cross_val_score(pipeline,\n",
    "                                   X, y,\n",
    "                                   scoring=\"roc_auc\", \n",
    "                                   cv=3)\n",
    "\n",
    "print(\"3-fold AUC: \", np.mean(cross_val_scores))\n",
    "print(cross_val_scores)"
   ]
  },
  {
   "cell_type": "code",
   "execution_count": 351,
   "metadata": {},
   "outputs": [],
   "source": [
    "from sklearn.metrics import classification_report"
   ]
  },
  {
   "cell_type": "markdown",
   "metadata": {},
   "source": [
    "## Tuning XGBoost Hyperparameters in a Pipeline"
   ]
  },
  {
   "cell_type": "code",
   "execution_count": 363,
   "metadata": {},
   "outputs": [],
   "source": [
    "from sklearn.model_selection import RandomizedSearchCV\n",
    "from sklearn.model_selection import train_test_split"
   ]
  },
  {
   "cell_type": "code",
   "execution_count": 366,
   "metadata": {},
   "outputs": [
    {
     "name": "stdout",
     "output_type": "stream",
     "text": [
      "0.9766735110463316\n",
      "Pipeline(memory=None,\n",
      "     steps=[('num_cat_union', FeatureUnion(n_jobs=1,\n",
      "       transformer_list=[('num_mapper', DataFrameMapper(default=False, df_out=True,\n",
      "        features=[(['1stFlrSF'], Imputer(axis=0, copy=True, missing_values='NaN', strategy='median', verbose=0)), (['2ndFlrSF'], Imputer(axis=0, copy=True, missing_valu...g_alpha=0,\n",
      "       reg_lambda=1, scale_pos_weight=1, seed=None, silent=True,\n",
      "       subsample=0.55))])\n"
     ]
    }
   ],
   "source": [
    "X, y, X_test, y_test = load_clean(\"train.csv\", \"test.csv\")\n",
    "y = y > y.mean()\n",
    "\n",
    "X_train, X_test, y_train, y_test = train_test_split(X, y, test_size=0.2)\n",
    "\n",
    "# steps = [(\"st_scalar\", StandardScaler()),\n",
    "#          (\"xgb_model\", xgb.XGBClassifier())]\n",
    "\n",
    "# xgb_pipeline = Pipeline(steps)\n",
    "\n",
    "# Must be of format \"modelname__hyperparamter\"\n",
    "gbm_param_grid = {\n",
    "                    \"xgb_model__subsample\":        np.arange(0.05, 1, 0.5),\n",
    "                    \"xgb_model__max_depth\":        np.arange(3, 20, 1),\n",
    "                    \"xgb_model__colsample_bytree\": np.arange(0.1, 1.05, 0.05),\n",
    "                    \"xgb_model__learning_rate\":    np.arange(0.05, 1, 0.05),\n",
    "                    \"xgb_model__n_estimators\":     np.arange(50, 200, 50)\n",
    "                  }\n",
    "\n",
    "randomized_roc_auc = RandomizedSearchCV(estimator=pipeline,\n",
    "                                        param_distributions=gbm_param_grid,\n",
    "                                        n_iter=10,\n",
    "                                        scoring=\"roc_auc\",\n",
    "                                        cv=4)\n",
    "\n",
    "randomized_roc_auc.fit(X_train, y_train)\n",
    "print(randomized_roc_auc.best_score_)\n",
    "print(randomized_roc_auc.best_estimator_)"
   ]
  },
  {
   "cell_type": "code",
   "execution_count": 367,
   "metadata": {},
   "outputs": [
    {
     "data": {
      "text/plain": [
       "Pipeline(memory=None,\n",
       "     steps=[('num_cat_union', FeatureUnion(n_jobs=1,\n",
       "       transformer_list=[('num_mapper', DataFrameMapper(default=False, df_out=True,\n",
       "        features=[(['1stFlrSF'], Imputer(axis=0, copy=True, missing_values='NaN', strategy='median', verbose=0)), (['2ndFlrSF'], Imputer(axis=0, copy=True, missing_valu...g_alpha=0,\n",
       "       reg_lambda=1, scale_pos_weight=1, seed=None, silent=True,\n",
       "       subsample=0.55))])"
      ]
     },
     "execution_count": 367,
     "metadata": {},
     "output_type": "execute_result"
    }
   ],
   "source": [
    "randomized_roc_auc.best_estimator_"
   ]
  },
  {
   "cell_type": "code",
   "execution_count": 368,
   "metadata": {},
   "outputs": [
    {
     "data": {
      "text/plain": [
       "{'xgb_model__colsample_bytree': 1.0000000000000004,\n",
       " 'xgb_model__learning_rate': 0.1,\n",
       " 'xgb_model__max_depth': 13,\n",
       " 'xgb_model__n_estimators': 50,\n",
       " 'xgb_model__subsample': 0.55}"
      ]
     },
     "execution_count": 368,
     "metadata": {},
     "output_type": "execute_result"
    }
   ],
   "source": [
    "randomized_roc_auc.best_params_"
   ]
  },
  {
   "cell_type": "code",
   "execution_count": 369,
   "metadata": {},
   "outputs": [
    {
     "name": "stderr",
     "output_type": "stream",
     "text": [
      "/Users/neiljelmert/anaconda/envs/py35/lib/python3.5/site-packages/sklearn/utils/deprecation.py:122: FutureWarning: You are accessing a training score ('mean_train_score'), which will not be available by default any more in 0.21. If you need training scores, please set return_train_score=True\n",
      "  warnings.warn(*warn_args, **warn_kwargs)\n",
      "/Users/neiljelmert/anaconda/envs/py35/lib/python3.5/site-packages/sklearn/utils/deprecation.py:122: FutureWarning: You are accessing a training score ('split0_train_score'), which will not be available by default any more in 0.21. If you need training scores, please set return_train_score=True\n",
      "  warnings.warn(*warn_args, **warn_kwargs)\n",
      "/Users/neiljelmert/anaconda/envs/py35/lib/python3.5/site-packages/sklearn/utils/deprecation.py:122: FutureWarning: You are accessing a training score ('split1_train_score'), which will not be available by default any more in 0.21. If you need training scores, please set return_train_score=True\n",
      "  warnings.warn(*warn_args, **warn_kwargs)\n",
      "/Users/neiljelmert/anaconda/envs/py35/lib/python3.5/site-packages/sklearn/utils/deprecation.py:122: FutureWarning: You are accessing a training score ('split2_train_score'), which will not be available by default any more in 0.21. If you need training scores, please set return_train_score=True\n",
      "  warnings.warn(*warn_args, **warn_kwargs)\n",
      "/Users/neiljelmert/anaconda/envs/py35/lib/python3.5/site-packages/sklearn/utils/deprecation.py:122: FutureWarning: You are accessing a training score ('split3_train_score'), which will not be available by default any more in 0.21. If you need training scores, please set return_train_score=True\n",
      "  warnings.warn(*warn_args, **warn_kwargs)\n",
      "/Users/neiljelmert/anaconda/envs/py35/lib/python3.5/site-packages/sklearn/utils/deprecation.py:122: FutureWarning: You are accessing a training score ('std_train_score'), which will not be available by default any more in 0.21. If you need training scores, please set return_train_score=True\n",
      "  warnings.warn(*warn_args, **warn_kwargs)\n"
     ]
    },
    {
     "data": {
      "text/plain": [
       "{'mean_fit_time': array([0.54497212, 0.59041476, 0.47047448, 0.52236331, 0.48240924,\n",
       "        0.47360826, 0.58614177, 0.44979501, 0.51692301, 0.53910232]),\n",
       " 'mean_score_time': array([0.16393071, 0.15573049, 0.14320296, 0.14120972, 0.14978224,\n",
       "        0.16185522, 0.154971  , 0.15920198, 0.14381123, 0.14698899]),\n",
       " 'mean_test_score': array([0.96595976, 0.97586235, 0.9578313 , 0.97504377, 0.96919866,\n",
       "        0.95516793, 0.97667351, 0.96147276, 0.9762384 , 0.96743602]),\n",
       " 'mean_train_score': array([1.        , 1.        , 0.96726464, 1.        , 0.97917497,\n",
       "        0.96893195, 0.99958389, 0.97620454, 0.99904073, 1.        ]),\n",
       " 'param_xgb_model__colsample_bytree': masked_array(data=[0.30000000000000004, 0.6000000000000002,\n",
       "                    0.6000000000000002, 0.20000000000000004,\n",
       "                    0.40000000000000013, 0.7500000000000002,\n",
       "                    1.0000000000000004, 1.0000000000000004,\n",
       "                    0.9500000000000003, 0.25000000000000006],\n",
       "              mask=[False, False, False, False, False, False, False, False,\n",
       "                    False, False],\n",
       "        fill_value='?',\n",
       "             dtype=object),\n",
       " 'param_xgb_model__learning_rate': masked_array(data=[0.7500000000000001, 0.25, 0.8500000000000001, 0.2, 0.4,\n",
       "                    0.7500000000000001, 0.1, 0.4, 0.2, 0.7500000000000001],\n",
       "              mask=[False, False, False, False, False, False, False, False,\n",
       "                    False, False],\n",
       "        fill_value='?',\n",
       "             dtype=object),\n",
       " 'param_xgb_model__max_depth': masked_array(data=[4, 19, 19, 8, 17, 16, 13, 5, 3, 14],\n",
       "              mask=[False, False, False, False, False, False, False, False,\n",
       "                    False, False],\n",
       "        fill_value='?',\n",
       "             dtype=object),\n",
       " 'param_xgb_model__n_estimators': masked_array(data=[50, 100, 50, 100, 150, 150, 50, 50, 50, 150],\n",
       "              mask=[False, False, False, False, False, False, False, False,\n",
       "                    False, False],\n",
       "        fill_value='?',\n",
       "             dtype=object),\n",
       " 'param_xgb_model__subsample': masked_array(data=[0.55, 0.55, 0.05, 0.55, 0.05, 0.05, 0.55, 0.05, 0.55,\n",
       "                    0.55],\n",
       "              mask=[False, False, False, False, False, False, False, False,\n",
       "                    False, False],\n",
       "        fill_value='?',\n",
       "             dtype=object),\n",
       " 'params': [{'xgb_model__colsample_bytree': 0.30000000000000004,\n",
       "   'xgb_model__learning_rate': 0.7500000000000001,\n",
       "   'xgb_model__max_depth': 4,\n",
       "   'xgb_model__n_estimators': 50,\n",
       "   'xgb_model__subsample': 0.55},\n",
       "  {'xgb_model__colsample_bytree': 0.6000000000000002,\n",
       "   'xgb_model__learning_rate': 0.25,\n",
       "   'xgb_model__max_depth': 19,\n",
       "   'xgb_model__n_estimators': 100,\n",
       "   'xgb_model__subsample': 0.55},\n",
       "  {'xgb_model__colsample_bytree': 0.6000000000000002,\n",
       "   'xgb_model__learning_rate': 0.8500000000000001,\n",
       "   'xgb_model__max_depth': 19,\n",
       "   'xgb_model__n_estimators': 50,\n",
       "   'xgb_model__subsample': 0.05},\n",
       "  {'xgb_model__colsample_bytree': 0.20000000000000004,\n",
       "   'xgb_model__learning_rate': 0.2,\n",
       "   'xgb_model__max_depth': 8,\n",
       "   'xgb_model__n_estimators': 100,\n",
       "   'xgb_model__subsample': 0.55},\n",
       "  {'xgb_model__colsample_bytree': 0.40000000000000013,\n",
       "   'xgb_model__learning_rate': 0.4,\n",
       "   'xgb_model__max_depth': 17,\n",
       "   'xgb_model__n_estimators': 150,\n",
       "   'xgb_model__subsample': 0.05},\n",
       "  {'xgb_model__colsample_bytree': 0.7500000000000002,\n",
       "   'xgb_model__learning_rate': 0.7500000000000001,\n",
       "   'xgb_model__max_depth': 16,\n",
       "   'xgb_model__n_estimators': 150,\n",
       "   'xgb_model__subsample': 0.05},\n",
       "  {'xgb_model__colsample_bytree': 1.0000000000000004,\n",
       "   'xgb_model__learning_rate': 0.1,\n",
       "   'xgb_model__max_depth': 13,\n",
       "   'xgb_model__n_estimators': 50,\n",
       "   'xgb_model__subsample': 0.55},\n",
       "  {'xgb_model__colsample_bytree': 1.0000000000000004,\n",
       "   'xgb_model__learning_rate': 0.4,\n",
       "   'xgb_model__max_depth': 5,\n",
       "   'xgb_model__n_estimators': 50,\n",
       "   'xgb_model__subsample': 0.05},\n",
       "  {'xgb_model__colsample_bytree': 0.9500000000000003,\n",
       "   'xgb_model__learning_rate': 0.2,\n",
       "   'xgb_model__max_depth': 3,\n",
       "   'xgb_model__n_estimators': 50,\n",
       "   'xgb_model__subsample': 0.55},\n",
       "  {'xgb_model__colsample_bytree': 0.25000000000000006,\n",
       "   'xgb_model__learning_rate': 0.7500000000000001,\n",
       "   'xgb_model__max_depth': 14,\n",
       "   'xgb_model__n_estimators': 150,\n",
       "   'xgb_model__subsample': 0.55}],\n",
       " 'rank_test_score': array([ 7,  3,  9,  4,  5, 10,  1,  8,  2,  6], dtype=int32),\n",
       " 'split0_test_score': array([0.9621061 , 0.97172916, 0.94380734, 0.97063223, 0.96385122,\n",
       "        0.94615078, 0.9690367 , 0.94874352, 0.97292581, 0.97113083]),\n",
       " 'split0_train_score': array([1.        , 1.        , 0.96379198, 1.        , 0.97743161,\n",
       "        0.96749457, 0.99958549, 0.9732809 , 0.99916538, 1.        ]),\n",
       " 'split1_test_score': array([0.96648551, 0.9810789 , 0.95808172, 0.98253824, 0.98062601,\n",
       "        0.96331522, 0.98238728, 0.96628422, 0.9799215 , 0.97071256]),\n",
       " 'split1_train_score': array([1.        , 1.        , 0.9654949 , 1.        , 0.97816557,\n",
       "        0.96841826, 0.99974871, 0.97140304, 0.99882172, 1.        ]),\n",
       " 'split2_test_score': array([0.96492552, 0.97398349, 0.96507649, 0.97519122, 0.97056159,\n",
       "        0.95767915, 0.97448671, 0.96588164, 0.974688  , 0.97272544]),\n",
       " 'split2_train_score': array([1.        , 1.        , 0.97243334, 1.        , 0.97791428,\n",
       "        0.96555633, 0.99951975, 0.97870725, 0.99920145, 1.        ]),\n",
       " 'split3_test_score': array([0.97035013, 0.97667476, 0.96443028, 0.97181745, 0.96174863,\n",
       "        0.95355191, 0.98082372, 0.96503744, 0.97743372, 0.95512042]),\n",
       " 'split3_train_score': array([1.        , 1.        , 0.96733835, 1.        , 0.98318841,\n",
       "        0.97425864, 0.99948161, 0.98142698, 0.99897436, 1.        ]),\n",
       " 'std_fit_time': array([0.12252624, 0.01656849, 0.0702497 , 0.01466548, 0.01767985,\n",
       "        0.015759  , 0.01184578, 0.01767947, 0.02496702, 0.01294505]),\n",
       " 'std_score_time': array([0.02622897, 0.01230809, 0.00408376, 0.00336229, 0.00651311,\n",
       "        0.00548114, 0.00648397, 0.01424956, 0.00556085, 0.00192115]),\n",
       " 'std_test_score': array([0.00297729, 0.00348361, 0.00856297, 0.00463926, 0.00735608,\n",
       "        0.00626248, 0.00531778, 0.00737971, 0.00266476, 0.00713384]),\n",
       " 'std_train_score': array([0.        , 0.        , 0.00323698, 0.        , 0.00233212,\n",
       "        0.00324416, 0.00010216, 0.00403545, 0.00015308, 0.        ])}"
      ]
     },
     "execution_count": 369,
     "metadata": {},
     "output_type": "execute_result"
    }
   ],
   "source": [
    "randomized_roc_auc.cv_results_"
   ]
  },
  {
   "cell_type": "code",
   "execution_count": 460,
   "metadata": {},
   "outputs": [
    {
     "data": {
      "text/plain": [
       "(292,)"
      ]
     },
     "execution_count": 460,
     "metadata": {},
     "output_type": "execute_result"
    }
   ],
   "source": [
    "randomized_roc_auc.predict_proba(X_test)[:,1].shape"
   ]
  },
  {
   "cell_type": "code",
   "execution_count": 372,
   "metadata": {},
   "outputs": [
    {
     "data": {
      "text/plain": [
       "0.9870675256502027"
      ]
     },
     "execution_count": 372,
     "metadata": {},
     "output_type": "execute_result"
    }
   ],
   "source": [
    "randomized_roc_auc.score(X_test, y_test)"
   ]
  },
  {
   "cell_type": "code",
   "execution_count": 465,
   "metadata": {},
   "outputs": [],
   "source": [
    "def report_best_thresh(y_probs, y_true):\n",
    "    \n",
    "    if y_probs.shape[1] == 2:\n",
    "        y_probs = y_probs[:,1]\n",
    "    else:\n",
    "        pass\n",
    "    \n",
    "    assert(y_probs.shape == (y_true.shape[0],))\n",
    "        \n",
    "    thresholds = np.arange(0.0, 1.0, 0.01)\n",
    "    recall = []\n",
    "    precision = []\n",
    "    \n",
    "    decision = lambda x: 1 if x > t else 0\n",
    "    dec_vec = np.vectorize(decision)\n",
    "    \n",
    "    for t in thresholds:\n",
    "        t_pred = dec_vec(y_probs)\n",
    "        \n",
    "        tp = np.sum((t_pred == 1) & (y_true == 1))\n",
    "        fp = np.sum((t_pred == 1) & (y_true == 0))\n",
    "        fn = np.sum((t_pred == 0) & (y_true == 1))\n",
    "        prec = tp/(tp+fp)\n",
    "        rec = tp/(tp+fn)\n",
    "    \n",
    "        precision.append(prec)\n",
    "        recall.append(rec)\n",
    "    \n",
    "    argmax = np.argmax(np.array(precision) + np.array(recall))\n",
    "    \n",
    "    return thresholds[argmax]"
   ]
  },
  {
   "cell_type": "code",
   "execution_count": 466,
   "metadata": {},
   "outputs": [
    {
     "data": {
      "text/plain": [
       "0.44"
      ]
     },
     "execution_count": 466,
     "metadata": {},
     "output_type": "execute_result"
    }
   ],
   "source": [
    "report_best_thresh(randomized_roc_auc.predict_proba(X_test), y_test)"
   ]
  },
  {
   "cell_type": "code",
   "execution_count": 455,
   "metadata": {},
   "outputs": [
    {
     "name": "stdout",
     "output_type": "stream",
     "text": [
      "0.9590163934426229 0.9212598425196851\n",
      "0.44\n"
     ]
    }
   ],
   "source": [
    "print(precision[44], recall[44])\n",
    "print(thresh[44])"
   ]
  },
  {
   "cell_type": "code",
   "execution_count": 385,
   "metadata": {},
   "outputs": [
    {
     "data": {
      "image/png": "[encoded data removed]",
      "text/plain": [
       "<matplotlib.figure.Figure at 0x116486ba8>"
      ]
     },
     "metadata": {},
     "output_type": "display_data"
    }
   ],
   "source": [
    "import scikitplot as skplt\n",
    "\n",
    "y_true = y_test\n",
    "y_probas = randomized_roc_auc.predict_proba(X_test)\n",
    "skplt.metrics.plot_roc_curve(y_true, y_probas, curves=('each_class'))\n",
    "plt.show()"
   ]
  },
  {
   "cell_type": "code",
   "execution_count": 386,
   "metadata": {},
   "outputs": [
    {
     "data": {
      "image/png": "[encoded data removed]",
      "text/plain": [
       "<matplotlib.figure.Figure at 0x11651f5f8>"
      ]
     },
     "metadata": {},
     "output_type": "display_data"
    }
   ],
   "source": [
    "skplt.metrics.plot_precision_recall_curve(y_test, y_probas, curves=('each_class'))\n",
    "plt.show()"
   ]
  },
  {
   "cell_type": "code",
   "execution_count": 384,
   "metadata": {},
   "outputs": [
    {
     "name": "stderr",
     "output_type": "stream",
     "text": [
      "/Users/neiljelmert/anaconda/envs/py35/lib/python3.5/site-packages/sklearn/preprocessing/label.py:151: DeprecationWarning: The truth value of an empty array is ambiguous. Returning False, but in future this will result in an error. Use `array.size > 0` to check that an array is not empty.\n",
      "  if diff:\n"
     ]
    },
    {
     "data": {
      "image/png": "[encoded data removed]",
      "text/plain": [
       "<matplotlib.figure.Figure at 0x115ff3d30>"
      ]
     },
     "metadata": {},
     "output_type": "display_data"
    }
   ],
   "source": [
    "preds = randomized_roc_auc.predict(X_test)\n",
    "skplt.metrics.plot_confusion_matrix(y_true=y_test, y_pred=preds)\n",
    "plt.show()"
   ]
  },
  {
   "cell_type": "code",
   "execution_count": 337,
   "metadata": {},
   "outputs": [],
   "source": [
    "best_xgb = randomized_roc_auc.best_estimator_"
   ]
  },
  {
   "cell_type": "code",
   "execution_count": 338,
   "metadata": {},
   "outputs": [
    {
     "data": {
      "text/plain": [
       "XGBClassifier(base_score=0.5, booster='gbtree', colsample_bylevel=1,\n",
       "       colsample_bytree=1, gamma=0, learning_rate=0.1, max_delta_step=0,\n",
       "       max_depth=3, min_child_weight=1, missing=None, n_estimators=100,\n",
       "       n_jobs=1, nthread=None, objective='binary:logistic', random_state=0,\n",
       "       reg_alpha=0, reg_lambda=1, scale_pos_weight=1, seed=None,\n",
       "       silent=True, subsample=1)"
      ]
     },
     "execution_count": 338,
     "metadata": {},
     "output_type": "execute_result"
    }
   ],
   "source": [
    "pipeline.steps[3][1]"
   ]
  },
  {
   "cell_type": "code",
   "execution_count": 339,
   "metadata": {},
   "outputs": [
    {
     "data": {
      "text/plain": [
       "Pipeline(memory=None,\n",
       "     steps=[('num_cat_union', FeatureUnion(n_jobs=1,\n",
       "       transformer_list=[('num_mapper', DataFrameMapper(default=False, df_out=True,\n",
       "        features=[(['1stFlrSF'], Imputer(axis=0, copy=True, missing_values='NaN', strategy='median', verbose=0)), (['2ndFlrSF'], Imputer(axis=0, copy=True, missing_valu...     reg_alpha=0, reg_lambda=1, scale_pos_weight=1, seed=None,\n",
       "       silent=True, subsample=0.55))])"
      ]
     },
     "execution_count": 339,
     "metadata": {},
     "output_type": "execute_result"
    }
   ],
   "source": [
    "best_xgb.fit(X,y)"
   ]
  },
  {
   "cell_type": "code",
   "execution_count": 340,
   "metadata": {},
   "outputs": [
    {
     "data": {
      "text/plain": [
       "XGBClassifier(base_score=0.5, booster='gbtree', colsample_bylevel=1,\n",
       "       colsample_bytree=0.1, gamma=0, learning_rate=0.1, max_delta_step=0,\n",
       "       max_depth=4, min_child_weight=1, missing=None, n_estimators=100,\n",
       "       n_jobs=1, nthread=None, objective='binary:logistic', random_state=0,\n",
       "       reg_alpha=0, reg_lambda=1, scale_pos_weight=1, seed=None,\n",
       "       silent=True, subsample=0.55)"
      ]
     },
     "execution_count": 340,
     "metadata": {},
     "output_type": "execute_result"
    }
   ],
   "source": [
    "best_xgb.steps[3][1]"
   ]
  },
  {
   "cell_type": "code",
   "execution_count": 341,
   "metadata": {},
   "outputs": [
    {
     "data": {
      "text/html": [
       "<div>\n",
       "<style scoped>\n",
       "    .dataframe tbody tr th:only-of-type {\n",
       "        vertical-align: middle;\n",
       "    }\n",
       "\n",
       "    .dataframe tbody tr th {\n",
       "        vertical-align: top;\n",
       "    }\n",
       "\n",
       "    .dataframe thead th {\n",
       "        text-align: right;\n",
       "    }\n",
       "</style>\n",
       "<table border=\"1\" class=\"dataframe\">\n",
       "  <thead>\n",
       "    <tr style=\"text-align: right;\">\n",
       "      <th></th>\n",
       "      <th>1stFlrSF</th>\n",
       "      <th>2ndFlrSF</th>\n",
       "      <th>3SsnPorch</th>\n",
       "      <th>Alley</th>\n",
       "      <th>BedroomAbvGr</th>\n",
       "      <th>BldgType</th>\n",
       "      <th>BsmtCond</th>\n",
       "      <th>BsmtExposure</th>\n",
       "      <th>BsmtFinSF1</th>\n",
       "      <th>BsmtFinSF2</th>\n",
       "      <th>...</th>\n",
       "      <th>SaleType</th>\n",
       "      <th>ScreenPorch</th>\n",
       "      <th>Street</th>\n",
       "      <th>TotRmsAbvGrd</th>\n",
       "      <th>TotalBsmtSF</th>\n",
       "      <th>Utilities</th>\n",
       "      <th>WoodDeckSF</th>\n",
       "      <th>YearBuilt</th>\n",
       "      <th>YearRemodAdd</th>\n",
       "      <th>YrSold</th>\n",
       "    </tr>\n",
       "  </thead>\n",
       "  <tbody>\n",
       "    <tr>\n",
       "      <th>0</th>\n",
       "      <td>856</td>\n",
       "      <td>854</td>\n",
       "      <td>0</td>\n",
       "      <td>null_value</td>\n",
       "      <td>3</td>\n",
       "      <td>1Fam</td>\n",
       "      <td>TA</td>\n",
       "      <td>No</td>\n",
       "      <td>706.0</td>\n",
       "      <td>0.0</td>\n",
       "      <td>...</td>\n",
       "      <td>WD</td>\n",
       "      <td>0</td>\n",
       "      <td>Pave</td>\n",
       "      <td>8</td>\n",
       "      <td>856.0</td>\n",
       "      <td>AllPub</td>\n",
       "      <td>0</td>\n",
       "      <td>2003</td>\n",
       "      <td>2003</td>\n",
       "      <td>2008</td>\n",
       "    </tr>\n",
       "    <tr>\n",
       "      <th>1</th>\n",
       "      <td>1262</td>\n",
       "      <td>0</td>\n",
       "      <td>0</td>\n",
       "      <td>null_value</td>\n",
       "      <td>3</td>\n",
       "      <td>1Fam</td>\n",
       "      <td>TA</td>\n",
       "      <td>Gd</td>\n",
       "      <td>978.0</td>\n",
       "      <td>0.0</td>\n",
       "      <td>...</td>\n",
       "      <td>WD</td>\n",
       "      <td>0</td>\n",
       "      <td>Pave</td>\n",
       "      <td>6</td>\n",
       "      <td>1262.0</td>\n",
       "      <td>AllPub</td>\n",
       "      <td>298</td>\n",
       "      <td>1976</td>\n",
       "      <td>1976</td>\n",
       "      <td>2007</td>\n",
       "    </tr>\n",
       "    <tr>\n",
       "      <th>2</th>\n",
       "      <td>920</td>\n",
       "      <td>866</td>\n",
       "      <td>0</td>\n",
       "      <td>null_value</td>\n",
       "      <td>3</td>\n",
       "      <td>1Fam</td>\n",
       "      <td>TA</td>\n",
       "      <td>Mn</td>\n",
       "      <td>486.0</td>\n",
       "      <td>0.0</td>\n",
       "      <td>...</td>\n",
       "      <td>WD</td>\n",
       "      <td>0</td>\n",
       "      <td>Pave</td>\n",
       "      <td>6</td>\n",
       "      <td>920.0</td>\n",
       "      <td>AllPub</td>\n",
       "      <td>0</td>\n",
       "      <td>2001</td>\n",
       "      <td>2002</td>\n",
       "      <td>2008</td>\n",
       "    </tr>\n",
       "    <tr>\n",
       "      <th>3</th>\n",
       "      <td>961</td>\n",
       "      <td>756</td>\n",
       "      <td>0</td>\n",
       "      <td>null_value</td>\n",
       "      <td>3</td>\n",
       "      <td>1Fam</td>\n",
       "      <td>Gd</td>\n",
       "      <td>No</td>\n",
       "      <td>216.0</td>\n",
       "      <td>0.0</td>\n",
       "      <td>...</td>\n",
       "      <td>WD</td>\n",
       "      <td>0</td>\n",
       "      <td>Pave</td>\n",
       "      <td>7</td>\n",
       "      <td>756.0</td>\n",
       "      <td>AllPub</td>\n",
       "      <td>0</td>\n",
       "      <td>1915</td>\n",
       "      <td>1970</td>\n",
       "      <td>2006</td>\n",
       "    </tr>\n",
       "    <tr>\n",
       "      <th>4</th>\n",
       "      <td>1145</td>\n",
       "      <td>1053</td>\n",
       "      <td>0</td>\n",
       "      <td>null_value</td>\n",
       "      <td>4</td>\n",
       "      <td>1Fam</td>\n",
       "      <td>TA</td>\n",
       "      <td>Av</td>\n",
       "      <td>655.0</td>\n",
       "      <td>0.0</td>\n",
       "      <td>...</td>\n",
       "      <td>WD</td>\n",
       "      <td>0</td>\n",
       "      <td>Pave</td>\n",
       "      <td>9</td>\n",
       "      <td>1145.0</td>\n",
       "      <td>AllPub</td>\n",
       "      <td>192</td>\n",
       "      <td>2000</td>\n",
       "      <td>2000</td>\n",
       "      <td>2008</td>\n",
       "    </tr>\n",
       "  </tbody>\n",
       "</table>\n",
       "<p>5 rows × 80 columns</p>\n",
       "</div>"
      ],
      "text/plain": [
       "   1stFlrSF  2ndFlrSF  3SsnPorch       Alley  BedroomAbvGr BldgType BsmtCond  \\\n",
       "0       856       854          0  null_value             3     1Fam       TA   \n",
       "1      1262         0          0  null_value             3     1Fam       TA   \n",
       "2       920       866          0  null_value             3     1Fam       TA   \n",
       "3       961       756          0  null_value             3     1Fam       Gd   \n",
       "4      1145      1053          0  null_value             4     1Fam       TA   \n",
       "\n",
       "  BsmtExposure  BsmtFinSF1  BsmtFinSF2  ...   SaleType ScreenPorch  Street  \\\n",
       "0           No       706.0         0.0  ...         WD           0    Pave   \n",
       "1           Gd       978.0         0.0  ...         WD           0    Pave   \n",
       "2           Mn       486.0         0.0  ...         WD           0    Pave   \n",
       "3           No       216.0         0.0  ...         WD           0    Pave   \n",
       "4           Av       655.0         0.0  ...         WD           0    Pave   \n",
       "\n",
       "   TotRmsAbvGrd TotalBsmtSF  Utilities WoodDeckSF YearBuilt YearRemodAdd  \\\n",
       "0             8       856.0     AllPub          0      2003         2003   \n",
       "1             6      1262.0     AllPub        298      1976         1976   \n",
       "2             6       920.0     AllPub          0      2001         2002   \n",
       "3             7       756.0     AllPub          0      1915         1970   \n",
       "4             9      1145.0     AllPub        192      2000         2000   \n",
       "\n",
       "  YrSold  \n",
       "0   2008  \n",
       "1   2007  \n",
       "2   2008  \n",
       "3   2006  \n",
       "4   2008  \n",
       "\n",
       "[5 rows x 80 columns]"
      ]
     },
     "execution_count": 341,
     "metadata": {},
     "output_type": "execute_result"
    }
   ],
   "source": [
    "X.head()"
   ]
  },
  {
   "cell_type": "code",
   "execution_count": 347,
   "metadata": {},
   "outputs": [
    {
     "ename": "ValueError",
     "evalue": "bad input shape ()",
     "output_type": "error",
     "traceback": [
      "\u001b[0;31m---------------------------------------------------------------------------\u001b[0m",
      "\u001b[0;31mValueError\u001b[0m                                Traceback (most recent call last)",
      "\u001b[0;32m<ipython-input-347-6e85307f190c>\u001b[0m in \u001b[0;36m<module>\u001b[0;34m()\u001b[0m\n\u001b[0;32m----> 1\u001b[0;31m \u001b[0mpipeline\u001b[0m\u001b[0;34m.\u001b[0m\u001b[0mfit_transform\u001b[0m\u001b[0;34m(\u001b[0m\u001b[0mX\u001b[0m\u001b[0;34m.\u001b[0m\u001b[0miloc\u001b[0m\u001b[0;34m[\u001b[0m\u001b[0;34m:\u001b[0m\u001b[0;36m5\u001b[0m\u001b[0;34m,\u001b[0m\u001b[0;34m:\u001b[0m\u001b[0;34m]\u001b[0m\u001b[0;34m)\u001b[0m\u001b[0;34m\u001b[0m\u001b[0m\n\u001b[0m",
      "\u001b[0;32m~/anaconda/envs/py35/lib/python3.5/site-packages/sklearn/pipeline.py\u001b[0m in \u001b[0;36mfit_transform\u001b[0;34m(self, X, y, **fit_params)\u001b[0m\n\u001b[1;32m    285\u001b[0m             \u001b[0;32mreturn\u001b[0m \u001b[0mXt\u001b[0m\u001b[0;34m\u001b[0m\u001b[0m\n\u001b[1;32m    286\u001b[0m         \u001b[0;32melse\u001b[0m\u001b[0;34m:\u001b[0m\u001b[0;34m\u001b[0m\u001b[0m\n\u001b[0;32m--> 287\u001b[0;31m             \u001b[0;32mreturn\u001b[0m \u001b[0mlast_step\u001b[0m\u001b[0;34m.\u001b[0m\u001b[0mfit\u001b[0m\u001b[0;34m(\u001b[0m\u001b[0mXt\u001b[0m\u001b[0;34m,\u001b[0m \u001b[0my\u001b[0m\u001b[0;34m,\u001b[0m \u001b[0;34m**\u001b[0m\u001b[0mfit_params\u001b[0m\u001b[0;34m)\u001b[0m\u001b[0;34m.\u001b[0m\u001b[0mtransform\u001b[0m\u001b[0;34m(\u001b[0m\u001b[0mXt\u001b[0m\u001b[0;34m)\u001b[0m\u001b[0;34m\u001b[0m\u001b[0m\n\u001b[0m\u001b[1;32m    288\u001b[0m \u001b[0;34m\u001b[0m\u001b[0m\n\u001b[1;32m    289\u001b[0m     \u001b[0;34m@\u001b[0m\u001b[0mif_delegate_has_method\u001b[0m\u001b[0;34m(\u001b[0m\u001b[0mdelegate\u001b[0m\u001b[0;34m=\u001b[0m\u001b[0;34m'_final_estimator'\u001b[0m\u001b[0;34m)\u001b[0m\u001b[0;34m\u001b[0m\u001b[0m\n",
      "\u001b[0;32m~/anaconda/envs/py35/lib/python3.5/site-packages/xgboost/sklearn.py\u001b[0m in \u001b[0;36mfit\u001b[0;34m(self, X, y, sample_weight, eval_set, eval_metric, early_stopping_rounds, verbose, xgb_model)\u001b[0m\n\u001b[1;32m    475\u001b[0m                 \u001b[0mxgb_options\u001b[0m\u001b[0;34m.\u001b[0m\u001b[0mupdate\u001b[0m\u001b[0;34m(\u001b[0m\u001b[0;34m{\u001b[0m\u001b[0;34m\"eval_metric\"\u001b[0m\u001b[0;34m:\u001b[0m \u001b[0meval_metric\u001b[0m\u001b[0;34m}\u001b[0m\u001b[0;34m)\u001b[0m\u001b[0;34m\u001b[0m\u001b[0m\n\u001b[1;32m    476\u001b[0m \u001b[0;34m\u001b[0m\u001b[0m\n\u001b[0;32m--> 477\u001b[0;31m         \u001b[0mself\u001b[0m\u001b[0;34m.\u001b[0m\u001b[0m_le\u001b[0m \u001b[0;34m=\u001b[0m \u001b[0mXGBLabelEncoder\u001b[0m\u001b[0;34m(\u001b[0m\u001b[0;34m)\u001b[0m\u001b[0;34m.\u001b[0m\u001b[0mfit\u001b[0m\u001b[0;34m(\u001b[0m\u001b[0my\u001b[0m\u001b[0;34m)\u001b[0m\u001b[0;34m\u001b[0m\u001b[0m\n\u001b[0m\u001b[1;32m    478\u001b[0m         \u001b[0mtraining_labels\u001b[0m \u001b[0;34m=\u001b[0m \u001b[0mself\u001b[0m\u001b[0;34m.\u001b[0m\u001b[0m_le\u001b[0m\u001b[0;34m.\u001b[0m\u001b[0mtransform\u001b[0m\u001b[0;34m(\u001b[0m\u001b[0my\u001b[0m\u001b[0;34m)\u001b[0m\u001b[0;34m\u001b[0m\u001b[0m\n\u001b[1;32m    479\u001b[0m \u001b[0;34m\u001b[0m\u001b[0m\n",
      "\u001b[0;32m~/anaconda/envs/py35/lib/python3.5/site-packages/sklearn/preprocessing/label.py\u001b[0m in \u001b[0;36mfit\u001b[0;34m(self, y)\u001b[0m\n\u001b[1;32m     93\u001b[0m         \u001b[0mself\u001b[0m \u001b[0;34m:\u001b[0m \u001b[0mreturns\u001b[0m \u001b[0man\u001b[0m \u001b[0minstance\u001b[0m \u001b[0mof\u001b[0m \u001b[0mself\u001b[0m\u001b[0;34m.\u001b[0m\u001b[0;34m\u001b[0m\u001b[0m\n\u001b[1;32m     94\u001b[0m         \"\"\"\n\u001b[0;32m---> 95\u001b[0;31m         \u001b[0my\u001b[0m \u001b[0;34m=\u001b[0m \u001b[0mcolumn_or_1d\u001b[0m\u001b[0;34m(\u001b[0m\u001b[0my\u001b[0m\u001b[0;34m,\u001b[0m \u001b[0mwarn\u001b[0m\u001b[0;34m=\u001b[0m\u001b[0;32mTrue\u001b[0m\u001b[0;34m)\u001b[0m\u001b[0;34m\u001b[0m\u001b[0m\n\u001b[0m\u001b[1;32m     96\u001b[0m         \u001b[0mself\u001b[0m\u001b[0;34m.\u001b[0m\u001b[0mclasses_\u001b[0m \u001b[0;34m=\u001b[0m \u001b[0mnp\u001b[0m\u001b[0;34m.\u001b[0m\u001b[0munique\u001b[0m\u001b[0;34m(\u001b[0m\u001b[0my\u001b[0m\u001b[0;34m)\u001b[0m\u001b[0;34m\u001b[0m\u001b[0m\n\u001b[1;32m     97\u001b[0m         \u001b[0;32mreturn\u001b[0m \u001b[0mself\u001b[0m\u001b[0;34m\u001b[0m\u001b[0m\n",
      "\u001b[0;32m~/anaconda/envs/py35/lib/python3.5/site-packages/sklearn/utils/validation.py\u001b[0m in \u001b[0;36mcolumn_or_1d\u001b[0;34m(y, warn)\u001b[0m\n\u001b[1;32m    612\u001b[0m         \u001b[0;32mreturn\u001b[0m \u001b[0mnp\u001b[0m\u001b[0;34m.\u001b[0m\u001b[0mravel\u001b[0m\u001b[0;34m(\u001b[0m\u001b[0my\u001b[0m\u001b[0;34m)\u001b[0m\u001b[0;34m\u001b[0m\u001b[0m\n\u001b[1;32m    613\u001b[0m \u001b[0;34m\u001b[0m\u001b[0m\n\u001b[0;32m--> 614\u001b[0;31m     \u001b[0;32mraise\u001b[0m \u001b[0mValueError\u001b[0m\u001b[0;34m(\u001b[0m\u001b[0;34m\"bad input shape {0}\"\u001b[0m\u001b[0;34m.\u001b[0m\u001b[0mformat\u001b[0m\u001b[0;34m(\u001b[0m\u001b[0mshape\u001b[0m\u001b[0;34m)\u001b[0m\u001b[0;34m)\u001b[0m\u001b[0;34m\u001b[0m\u001b[0m\n\u001b[0m\u001b[1;32m    615\u001b[0m \u001b[0;34m\u001b[0m\u001b[0m\n\u001b[1;32m    616\u001b[0m \u001b[0;34m\u001b[0m\u001b[0m\n",
      "\u001b[0;31mValueError\u001b[0m: bad input shape ()"
     ]
    }
   ],
   "source": [
    "pipeline.fit_transform(X.iloc[:5,:])"
   ]
  },
  {
   "cell_type": "code",
   "execution_count": null,
   "metadata": {},
   "outputs": [],
   "source": [
    "best_xgb.predict_proba([])"
   ]
  },
  {
   "cell_type": "code",
   "execution_count": 294,
   "metadata": {},
   "outputs": [
    {
     "data": {
      "text/plain": [
       "<matplotlib.axes._subplots.AxesSubplot at 0x1119e6c88>"
      ]
     },
     "execution_count": 294,
     "metadata": {},
     "output_type": "execute_result"
    },
    {
     "data": {
      "image/png": "[encoded data removed]",
      "text/plain": [
       "<matplotlib.figure.Figure at 0x113aadc50>"
      ]
     },
     "metadata": {},
     "output_type": "display_data"
    }
   ],
   "source": [
    "import matplotlib.pyplot as plt\n",
    "%matplotlib inline\n",
    "\n",
    "from xgboost import plot_importance\n",
    "\n",
    "# plt.plot(best_xgb.steps[3][1].feature_importances_)\n",
    "fig, ax = plt.subplots(figsize=(10, 20))\n",
    "plot_importance(best_xgb.steps[3][1], ax=ax)"
   ]
  },
  {
   "cell_type": "code",
   "execution_count": null,
   "metadata": {},
   "outputs": [],
   "source": []
  },
  {
   "cell_type": "code",
   "execution_count": null,
   "metadata": {},
   "outputs": [],
   "source": []
  }
 ],
 "metadata": {
  "anaconda-cloud": {},
  "kernelspec": {
   "display_name": "Python [conda env:py35]",
   "language": "python",
   "name": "conda-env-py35-py"
  },
  "language_info": {
   "codemirror_mode": {
    "name": "ipython",
    "version": 3
   },
   "file_extension": ".py",
   "mimetype": "text/x-python",
   "name": "python",
   "nbconvert_exporter": "python",
   "pygments_lexer": "ipython3",
   "version": "3.5.4"
  }
 },
 "nbformat": 4,
 "nbformat_minor": 2
}
