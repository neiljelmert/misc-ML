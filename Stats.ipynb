{
 "cells": [
  {
   "cell_type": "code",
   "execution_count": 6,
   "metadata": {},
   "outputs": [],
   "source": [
    "import pandas as pd\n",
    "import numpy as np\n",
    "\n",
    "import matplotlib.pyplot as plt\n",
    "import seaborn as sns\n",
    "\n",
    "from sklearn import datasets\n",
    "\n",
    "%matplotlib inline\n",
    "sns.set()"
   ]
  },
  {
   "cell_type": "markdown",
   "metadata": {},
   "source": [
    "---\n",
    "# Graphical EDA"
   ]
  },
  {
   "cell_type": "code",
   "execution_count": 40,
   "metadata": {},
   "outputs": [
    {
     "data": {
      "text/html": [
       "<div>\n",
       "<style scoped>\n",
       "    .dataframe tbody tr th:only-of-type {\n",
       "        vertical-align: middle;\n",
       "    }\n",
       "\n",
       "    .dataframe tbody tr th {\n",
       "        vertical-align: top;\n",
       "    }\n",
       "\n",
       "    .dataframe thead th {\n",
       "        text-align: right;\n",
       "    }\n",
       "</style>\n",
       "<table border=\"1\" class=\"dataframe\">\n",
       "  <thead>\n",
       "    <tr style=\"text-align: right;\">\n",
       "      <th></th>\n",
       "      <th>sepal length (cm)</th>\n",
       "      <th>sepal width (cm)</th>\n",
       "      <th>petal length (cm)</th>\n",
       "      <th>petal width (cm)</th>\n",
       "      <th>target</th>\n",
       "      <th>species</th>\n",
       "    </tr>\n",
       "  </thead>\n",
       "  <tbody>\n",
       "    <tr>\n",
       "      <th>0</th>\n",
       "      <td>5.1</td>\n",
       "      <td>3.5</td>\n",
       "      <td>1.4</td>\n",
       "      <td>0.2</td>\n",
       "      <td>0.0</td>\n",
       "      <td>setosa</td>\n",
       "    </tr>\n",
       "    <tr>\n",
       "      <th>1</th>\n",
       "      <td>4.9</td>\n",
       "      <td>3.0</td>\n",
       "      <td>1.4</td>\n",
       "      <td>0.2</td>\n",
       "      <td>0.0</td>\n",
       "      <td>setosa</td>\n",
       "    </tr>\n",
       "    <tr>\n",
       "      <th>2</th>\n",
       "      <td>4.7</td>\n",
       "      <td>3.2</td>\n",
       "      <td>1.3</td>\n",
       "      <td>0.2</td>\n",
       "      <td>0.0</td>\n",
       "      <td>setosa</td>\n",
       "    </tr>\n",
       "    <tr>\n",
       "      <th>3</th>\n",
       "      <td>4.6</td>\n",
       "      <td>3.1</td>\n",
       "      <td>1.5</td>\n",
       "      <td>0.2</td>\n",
       "      <td>0.0</td>\n",
       "      <td>setosa</td>\n",
       "    </tr>\n",
       "    <tr>\n",
       "      <th>4</th>\n",
       "      <td>5.0</td>\n",
       "      <td>3.6</td>\n",
       "      <td>1.4</td>\n",
       "      <td>0.2</td>\n",
       "      <td>0.0</td>\n",
       "      <td>setosa</td>\n",
       "    </tr>\n",
       "  </tbody>\n",
       "</table>\n",
       "</div>"
      ],
      "text/plain": [
       "   sepal length (cm)  sepal width (cm)  petal length (cm)  petal width (cm)  \\\n",
       "0                5.1               3.5                1.4               0.2   \n",
       "1                4.9               3.0                1.4               0.2   \n",
       "2                4.7               3.2                1.3               0.2   \n",
       "3                4.6               3.1                1.5               0.2   \n",
       "4                5.0               3.6                1.4               0.2   \n",
       "\n",
       "   target species  \n",
       "0     0.0  setosa  \n",
       "1     0.0  setosa  \n",
       "2     0.0  setosa  \n",
       "3     0.0  setosa  \n",
       "4     0.0  setosa  "
      ]
     },
     "execution_count": 40,
     "metadata": {},
     "output_type": "execute_result"
    }
   ],
   "source": [
    "iris = datasets.load_iris()\n",
    "df = pd.DataFrame(data = np.c_[iris['data'], iris['target']],\n",
    "                     columns= iris['feature_names'] + ['target'])\n",
    "\n",
    "iris_target = {0: 'setosa', 1: 'versicolor', 2: 'virginica'}\n",
    "\n",
    "df['species'] = df['target'].map(iris_target)\n",
    "\n",
    "df.head()"
   ]
  },
  {
   "cell_type": "markdown",
   "metadata": {},
   "source": [
    "### Computing the ECDF"
   ]
  },
  {
   "cell_type": "code",
   "execution_count": 5,
   "metadata": {},
   "outputs": [],
   "source": [
    "def ecdf(data):\n",
    "    \n",
    "    n = len(data)\n",
    "    x = np.sort(data)\n",
    "    y = np.arange(1, n+1)/n\n",
    "    \n",
    "    return x, y"
   ]
  },
  {
   "cell_type": "code",
   "execution_count": 44,
   "metadata": {},
   "outputs": [],
   "source": [
    "data = df[df['target'] == 1]['petal length (cm)']"
   ]
  },
  {
   "cell_type": "code",
   "execution_count": 45,
   "metadata": {},
   "outputs": [
    {
     "data": {
      "image/png": "[encoded data removed]",
      "text/plain": [
       "<matplotlib.figure.Figure at 0x112b562e8>"
      ]
     },
     "metadata": {},
     "output_type": "display_data"
    }
   ],
   "source": [
    "x_vers, y_vers = ecdf(data)\n",
    "\n",
    "_ = plt.plot(x_vers, y_vers, marker='.', linestyle='none')\n",
    "_ = plt.margins(0.02)\n",
    "_ = plt.xlabel('petal length (cm)')\n",
    "_ = plt.ylabel('ECDF')\n",
    "\n",
    "plt.show()"
   ]
  },
  {
   "cell_type": "markdown",
   "metadata": {},
   "source": [
    "### Comparison of ECDFs"
   ]
  },
  {
   "cell_type": "code",
   "execution_count": 48,
   "metadata": {},
   "outputs": [
    {
     "data": {
      "image/png": "[encoded data removed]",
      "text/plain": [
       "<matplotlib.figure.Figure at 0x112b45cc0>"
      ]
     },
     "metadata": {},
     "output_type": "display_data"
    }
   ],
   "source": [
    "seto = df[df['target'] == 0]['petal length (cm)']\n",
    "vers = df[df['target'] == 1]['petal length (cm)']\n",
    "virg = df[df['target'] == 2]['petal length (cm)']\n",
    "\n",
    "x_set, y_set = ecdf(seto)\n",
    "x_vers, y_vers = ecdf(vers)\n",
    "x_virg, y_virg = ecdf(virg)\n",
    "\n",
    "_ = plt.plot(x_set, y_set, marker='.', linestyle='none')\n",
    "_ = plt.plot(x_vers, y_vers, marker='.', linestyle='none')\n",
    "_ = plt.plot(x_virg, y_virg, marker='.', linestyle='none')\n",
    "\n",
    "_ = plt.margins(0.02)\n",
    "_ = plt.legend(('setosa', 'versicolor', 'virginica'), loc='best')\n",
    "_ = plt.xlabel('Petal Length (cm)')\n",
    "_ = plt.ylabel('ECDF')\n",
    "\n",
    "plt.show()"
   ]
  },
  {
   "cell_type": "markdown",
   "metadata": {},
   "source": [
    "---\n",
    "\n",
    "# Quantitative EDA"
   ]
  },
  {
   "cell_type": "code",
   "execution_count": 52,
   "metadata": {},
   "outputs": [],
   "source": [
    "df_swing = pd.read_csv(\"homework3/data/2008-polls.csv\")"
   ]
  },
  {
   "cell_type": "code",
   "execution_count": 58,
   "metadata": {},
   "outputs": [
    {
     "data": {
      "text/html": [
       "<div>\n",
       "<style scoped>\n",
       "    .dataframe tbody tr th:only-of-type {\n",
       "        vertical-align: middle;\n",
       "    }\n",
       "\n",
       "    .dataframe tbody tr th {\n",
       "        vertical-align: top;\n",
       "    }\n",
       "\n",
       "    .dataframe thead th {\n",
       "        text-align: right;\n",
       "    }\n",
       "</style>\n",
       "<table border=\"1\" class=\"dataframe\">\n",
       "  <thead>\n",
       "    <tr style=\"text-align: right;\">\n",
       "      <th></th>\n",
       "      <th>State</th>\n",
       "      <th>Dem</th>\n",
       "      <th>Rep</th>\n",
       "      <th>Date</th>\n",
       "      <th>Pollster</th>\n",
       "    </tr>\n",
       "  </thead>\n",
       "  <tbody>\n",
       "    <tr>\n",
       "      <th>0</th>\n",
       "      <td>AK</td>\n",
       "      <td>33</td>\n",
       "      <td>64</td>\n",
       "      <td>Sep 09 2008</td>\n",
       "      <td>Rasmussen</td>\n",
       "    </tr>\n",
       "    <tr>\n",
       "      <th>1</th>\n",
       "      <td>AK</td>\n",
       "      <td>35</td>\n",
       "      <td>54</td>\n",
       "      <td>Sep 02 2008</td>\n",
       "      <td>IvanMooreResearch</td>\n",
       "    </tr>\n",
       "  </tbody>\n",
       "</table>\n",
       "</div>"
      ],
      "text/plain": [
       "  State  Dem  Rep         Date           Pollster\n",
       "0    AK   33   64  Sep 09 2008          Rasmussen\n",
       "1    AK   35   54  Sep 02 2008  IvanMooreResearch"
      ]
     },
     "execution_count": 58,
     "metadata": {},
     "output_type": "execute_result"
    }
   ],
   "source": [
    "df_swing.head(2)"
   ]
  },
  {
   "cell_type": "code",
   "execution_count": 55,
   "metadata": {},
   "outputs": [
    {
     "data": {
      "text/plain": [
       "array([46.5, 49. , 52. ])"
      ]
     },
     "execution_count": 55,
     "metadata": {},
     "output_type": "execute_result"
    }
   ],
   "source": [
    "np.percentile(df_swing[df_swing['State'] == 'PA']['Dem'], [25, 50, 75])"
   ]
  },
  {
   "cell_type": "code",
   "execution_count": 62,
   "metadata": {},
   "outputs": [
    {
     "data": {
      "text/plain": [
       "array([3.3   , 4.    , 4.35  , 4.6   , 4.9775])"
      ]
     },
     "execution_count": 62,
     "metadata": {},
     "output_type": "execute_result"
    }
   ],
   "source": [
    "percentiles = np.array([2.5, 25, 50, 75, 97.5])\n",
    "ptiles_vers = np.percentile(vers, percentiles)\n",
    "ptiles_vers"
   ]
  },
  {
   "cell_type": "markdown",
   "metadata": {},
   "source": [
    "### Comparing Percentiles to ECDF"
   ]
  },
  {
   "cell_type": "code",
   "execution_count": 64,
   "metadata": {},
   "outputs": [
    {
     "data": {
      "image/png": "[encoded data removed]",
      "text/plain": [
       "<matplotlib.figure.Figure at 0x112c39978>"
      ]
     },
     "metadata": {},
     "output_type": "display_data"
    }
   ],
   "source": [
    "_ = plt.plot(x_vers, y_vers, marker='.', linestyle='none')\n",
    "_ = plt.margins(0.02)\n",
    "_ = plt.xlabel('Petal Length (cm)')\n",
    "_ = plt.ylabel('ECDF')\n",
    "\n",
    "_ = plt.plot(ptiles_vers, percentiles/100., \n",
    "             marker='D', color='red',\n",
    "             linestyle='none')\n",
    "\n",
    "plt.show()"
   ]
  },
  {
   "cell_type": "markdown",
   "metadata": {},
   "source": [
    "### Box & Whisker Plots"
   ]
  },
  {
   "cell_type": "code",
   "execution_count": 65,
   "metadata": {},
   "outputs": [
    {
     "data": {
      "image/png": "[encoded data removed]",
      "text/plain": [
       "<matplotlib.figure.Figure at 0x112b420b8>"
      ]
     },
     "metadata": {},
     "output_type": "display_data"
    }
   ],
   "source": [
    "sns.boxplot(x='species', y='petal length (cm)', data=df)\n",
    "\n",
    "_ = plt.xlabel('Species')\n",
    "_ = plt.ylabel('Percent of Petal Length')\n",
    "\n",
    "plt.show()"
   ]
  },
  {
   "cell_type": "markdown",
   "metadata": {},
   "source": [
    "### Covariance & Pearson Correlation"
   ]
  },
  {
   "cell_type": "code",
   "execution_count": 106,
   "metadata": {},
   "outputs": [
    {
     "name": "stdout",
     "output_type": "stream",
     "text": [
      "--2018-03-28 19:40:32--  https://raw.githubusercontent.com/dataofnote/us-presidential-election-county-results/master/data/us-presidential-election-county-results-2004-through-2012.csv\n",
      "Resolving raw.githubusercontent.com (raw.githubusercontent.com)... 151.101.188.133\n",
      "Connecting to raw.githubusercontent.com (raw.githubusercontent.com)|151.101.188.133|:443... connected.\n",
      "HTTP request sent, awaiting response... 200 OK\n",
      "Length: 777607 (759K) [text/plain]\n",
      "Saving to: ‘us-presidential-election-county-results-2004-through-2012.csv’\n",
      "\n",
      "us-presidential-ele 100%[===================>] 759.38K  4.86MB/s    in 0.2s    \n",
      "\n",
      "2018-03-28 19:40:32 (4.86 MB/s) - ‘us-presidential-election-county-results-2004-through-2012.csv’ saved [777607/777607]\n",
      "\n"
     ]
    }
   ],
   "source": [
    "!wget https://raw.githubusercontent.com/dataofnote/us-presidential-election-county-results/master/data/us-presidential-election-county-results-2004-through-2012.csv"
   ]
  },
  {
   "cell_type": "code",
   "execution_count": 107,
   "metadata": {},
   "outputs": [],
   "source": [
    "df_swing = pd.read_csv(\"us-presidential-election-county-results-2004-through-2012.csv\")"
   ]
  },
  {
   "cell_type": "code",
   "execution_count": 108,
   "metadata": {},
   "outputs": [
    {
     "data": {
      "text/plain": [
       "(9461, 15)"
      ]
     },
     "execution_count": 108,
     "metadata": {},
     "output_type": "execute_result"
    }
   ],
   "source": [
    "df_swing.shape"
   ]
  },
  {
   "cell_type": "code",
   "execution_count": 119,
   "metadata": {},
   "outputs": [],
   "source": [
    "df_swing = df_swing[df_swing['year'] == 2008]\n",
    "df_swing = df_swing[df_swing['pct_dem'] >= 0.0]\n",
    "df_swing = df_swing[df_swing['pct_rep'] >= 0.0]"
   ]
  },
  {
   "cell_type": "code",
   "execution_count": 120,
   "metadata": {},
   "outputs": [
    {
     "data": {
      "text/html": [
       "<div>\n",
       "<style scoped>\n",
       "    .dataframe tbody tr th:only-of-type {\n",
       "        vertical-align: middle;\n",
       "    }\n",
       "\n",
       "    .dataframe tbody tr th {\n",
       "        vertical-align: top;\n",
       "    }\n",
       "\n",
       "    .dataframe thead th {\n",
       "        text-align: right;\n",
       "    }\n",
       "</style>\n",
       "<table border=\"1\" class=\"dataframe\">\n",
       "  <thead>\n",
       "    <tr style=\"text-align: right;\">\n",
       "      <th></th>\n",
       "      <th>year</th>\n",
       "      <th>state</th>\n",
       "      <th>county</th>\n",
       "      <th>fips</th>\n",
       "      <th>vote_rep</th>\n",
       "      <th>vote_dem</th>\n",
       "      <th>vote_oth</th>\n",
       "      <th>vote_total</th>\n",
       "      <th>pct_rep</th>\n",
       "      <th>pct_dem</th>\n",
       "      <th>pct_oth</th>\n",
       "      <th>winner</th>\n",
       "      <th>runnerup</th>\n",
       "      <th>pct_winner</th>\n",
       "      <th>margin_winner_over_runnerup</th>\n",
       "    </tr>\n",
       "  </thead>\n",
       "  <tbody>\n",
       "    <tr>\n",
       "      <th>3154</th>\n",
       "      <td>2008</td>\n",
       "      <td>AL</td>\n",
       "      <td>Autauga County</td>\n",
       "      <td>01001</td>\n",
       "      <td>17403</td>\n",
       "      <td>6093</td>\n",
       "      <td>145</td>\n",
       "      <td>23641</td>\n",
       "      <td>73.6</td>\n",
       "      <td>25.8</td>\n",
       "      <td>0.6</td>\n",
       "      <td>rep</td>\n",
       "      <td>dem</td>\n",
       "      <td>73.6</td>\n",
       "      <td>47.8</td>\n",
       "    </tr>\n",
       "    <tr>\n",
       "      <th>3155</th>\n",
       "      <td>2008</td>\n",
       "      <td>AL</td>\n",
       "      <td>Baldwin County</td>\n",
       "      <td>01003</td>\n",
       "      <td>61271</td>\n",
       "      <td>19386</td>\n",
       "      <td>756</td>\n",
       "      <td>81413</td>\n",
       "      <td>75.3</td>\n",
       "      <td>23.8</td>\n",
       "      <td>0.9</td>\n",
       "      <td>rep</td>\n",
       "      <td>dem</td>\n",
       "      <td>75.3</td>\n",
       "      <td>51.5</td>\n",
       "    </tr>\n",
       "  </tbody>\n",
       "</table>\n",
       "</div>"
      ],
      "text/plain": [
       "      year state          county   fips  vote_rep  vote_dem  vote_oth  \\\n",
       "3154  2008    AL  Autauga County  01001     17403      6093       145   \n",
       "3155  2008    AL  Baldwin County  01003     61271     19386       756   \n",
       "\n",
       "      vote_total  pct_rep  pct_dem  pct_oth winner runnerup  pct_winner  \\\n",
       "3154       23641     73.6     25.8      0.6    rep      dem        73.6   \n",
       "3155       81413     75.3     23.8      0.9    rep      dem        75.3   \n",
       "\n",
       "      margin_winner_over_runnerup  \n",
       "3154                         47.8  \n",
       "3155                         51.5  "
      ]
     },
     "execution_count": 120,
     "metadata": {},
     "output_type": "execute_result"
    }
   ],
   "source": [
    "df_swing.head(2)"
   ]
  },
  {
   "cell_type": "code",
   "execution_count": 140,
   "metadata": {},
   "outputs": [
    {
     "data": {
      "image/png": "[encoded data removed]",
      "text/plain": [
       "<matplotlib.figure.Figure at 0x1150def60>"
      ]
     },
     "metadata": {},
     "output_type": "display_data"
    }
   ],
   "source": [
    "x = df_swing[df_swing['state'] == 'WV']['vote_total']/1000.\n",
    "y = df_swing[df_swing['state'] == 'WV']['pct_dem']\n",
    "\n",
    "_ = plt.plot(x, y, marker='.', linestyle='none')\n",
    "_ = plt.margins(0.02)\n",
    "_ = plt.xlim([-1,50])\n",
    "_ = plt.xlabel('Total votes (thousands)')\n",
    "_ = plt.ylabel('Percent of Vote for Obama')\n",
    "plt.show()"
   ]
  },
  {
   "cell_type": "code",
   "execution_count": 141,
   "metadata": {},
   "outputs": [
    {
     "name": "stdout",
     "output_type": "stream",
     "text": [
      "[[182.35905403  24.98711541]\n",
      " [ 24.98711541  46.68430222]]\n"
     ]
    }
   ],
   "source": [
    "cov_mat = np.cov(x, y)\n",
    "print(cov_mat)"
   ]
  },
  {
   "cell_type": "code",
   "execution_count": 142,
   "metadata": {},
   "outputs": [
    {
     "name": "stdout",
     "output_type": "stream",
     "text": [
      "24.987115407407405\n"
     ]
    }
   ],
   "source": [
    "cov_xy = cov_mat[0,1]\n",
    "print(cov_xy)"
   ]
  },
  {
   "cell_type": "code",
   "execution_count": 144,
   "metadata": {},
   "outputs": [
    {
     "data": {
      "text/plain": [
       "0.27081144929493856"
      ]
     },
     "execution_count": 144,
     "metadata": {},
     "output_type": "execute_result"
    }
   ],
   "source": [
    "def pearson_r(x, y):\n",
    "    corr_mat = np.corrcoef(x,y)\n",
    "    return corr_mat[0,1]\n",
    "\n",
    "pearson_r(x,y)"
   ]
  },
  {
   "cell_type": "markdown",
   "metadata": {},
   "source": [
    "---\n",
    "# Thinking Probabilistically -- Discrete Variables"
   ]
  },
  {
   "cell_type": "markdown",
   "metadata": {},
   "source": [
    "### Simulating 4 coin flips"
   ]
  },
  {
   "cell_type": "code",
   "execution_count": 154,
   "metadata": {},
   "outputs": [
    {
     "data": {
      "text/plain": [
       "2"
      ]
     },
     "execution_count": 154,
     "metadata": {},
     "output_type": "execute_result"
    }
   ],
   "source": [
    "# np.random.seed(42)\n",
    "\n",
    "random_numbers = np.random.random(size=4)\n",
    "heads = random_numbers < 0.5\n",
    "np.sum(heads)"
   ]
  },
  {
   "cell_type": "code",
   "execution_count": 160,
   "metadata": {},
   "outputs": [
    {
     "data": {
      "text/plain": [
       "0.0619"
      ]
     },
     "execution_count": 160,
     "metadata": {},
     "output_type": "execute_result"
    }
   ],
   "source": [
    "n_all_heads = 0 # Initialize number of 4-heads trials\n",
    "\n",
    "for _ in range(10000):\n",
    "    heads = np.random.random(size=4) < 0.5\n",
    "    n_heads = np.sum(heads)\n",
    "    if n_heads == 4:\n",
    "        n_all_heads += 1\n",
    "        \n",
    "n_all_heads/10000"
   ]
  },
  {
   "cell_type": "code",
   "execution_count": 162,
   "metadata": {},
   "outputs": [
    {
     "data": {
      "image/png": "[encoded data removed]",
      "text/plain": [
       "<matplotlib.figure.Figure at 0x1158a45f8>"
      ]
     },
     "metadata": {},
     "output_type": "display_data"
    }
   ],
   "source": [
    "random_numbers = np.empty(100000)\n",
    "\n",
    "for i in range(100000):\n",
    "    random_numbers[i] = np.random.random(size=1)\n",
    "\n",
    "_ = plt.hist(random_numbers)\n",
    "plt.show()"
   ]
  },
  {
   "cell_type": "code",
   "execution_count": 163,
   "metadata": {},
   "outputs": [],
   "source": [
    "def perform_bernoulli_trials(n, p):\n",
    "    \n",
    "    n_success = 0\n",
    "    for i in range(n):\n",
    "        random_number = np.random.random(1)\n",
    "        if random_number < p:\n",
    "            n_success += 1\n",
    "    return n_success"
   ]
  },
  {
   "cell_type": "markdown",
   "metadata": {},
   "source": [
    "### How many defaults do we expect?\n",
    "* A bank made 100 loans\n",
    "* It is possible 0 to 100 loans will be defaulted upon\n",
    "* What is the probability of getting a given number of defaults, given that the probability of a default is 0.05?"
   ]
  },
  {
   "cell_type": "code",
   "execution_count": 167,
   "metadata": {},
   "outputs": [
    {
     "data": {
      "image/png": "[encoded data removed]",
      "text/plain": [
       "<matplotlib.figure.Figure at 0x115a3eb70>"
      ]
     },
     "metadata": {},
     "output_type": "display_data"
    }
   ],
   "source": [
    "n_defaults = np.empty(10000)\n",
    "\n",
    "for i in range(10000):\n",
    "    n_defaults[i] = perform_bernoulli_trials(100, 0.05)\n",
    "\n",
    "_ = plt.hist(n_defaults, normed=True)\n",
    "_ = plt.xlabel(\"Number of defaults out of 100 loans\")\n",
    "_ = plt.ylabel(\"Probability\")\n",
    "\n",
    "plt.show()"
   ]
  },
  {
   "cell_type": "markdown",
   "metadata": {},
   "source": [
    "### Will the bank fail?\n",
    "* If interest rates are such that the bank will lose money if 10 or more of its loans are defaulted upon, what is the probability that the bank will lose money?"
   ]
  },
  {
   "cell_type": "code",
   "execution_count": 176,
   "metadata": {},
   "outputs": [
    {
     "data": {
      "image/png": "[encoded data removed]",
      "text/plain": [
       "<matplotlib.figure.Figure at 0x1168ce5f8>"
      ]
     },
     "metadata": {},
     "output_type": "display_data"
    },
    {
     "name": "stdout",
     "output_type": "stream",
     "text": [
      "Probability of losing money = 0.0283\n"
     ]
    }
   ],
   "source": [
    "x, y = ecdf(n_defaults)\n",
    "\n",
    "_ = plt.plot(x, y, marker='.', linestyle='none')\n",
    "_ = plt.margins(0.02)\n",
    "\n",
    "plt.show()\n",
    "\n",
    "n_lose_money = np.sum(n_defaults >= 10)\n",
    "\n",
    "print(\"Probability of losing money =\", n_lose_money/len(n_defaults))"
   ]
  },
  {
   "cell_type": "code",
   "execution_count": 177,
   "metadata": {},
   "outputs": [],
   "source": [
    "probs = []\n",
    "for j in range(0, 25):\n",
    "    n_lose_money = np.sum(n_defaults >= j)\n",
    "    prob = n_lose_money/len(n_defaults)\n",
    "    probs.append(prob)"
   ]
  },
  {
   "cell_type": "code",
   "execution_count": 181,
   "metadata": {},
   "outputs": [
    {
     "data": {
      "text/plain": [
       "[<matplotlib.lines.Line2D at 0x1158c64e0>]"
      ]
     },
     "execution_count": 181,
     "metadata": {},
     "output_type": "execute_result"
    },
    {
     "data": {
      "image/png": "[encoded data removed]",
      "text/plain": [
       "<matplotlib.figure.Figure at 0x1162b2eb8>"
      ]
     },
     "metadata": {},
     "output_type": "display_data"
    }
   ],
   "source": [
    "plt.plot(np.arange(len(probs)), probs)"
   ]
  },
  {
   "cell_type": "markdown",
   "metadata": {},
   "source": [
    "### Probability Mass Functions"
   ]
  },
  {
   "cell_type": "code",
   "execution_count": 185,
   "metadata": {},
   "outputs": [
    {
     "data": {
      "text/plain": [
       "array([4, 5, 5, ..., 5, 7, 6])"
      ]
     },
     "execution_count": 185,
     "metadata": {},
     "output_type": "execute_result"
    }
   ],
   "source": [
    "# the number of r successes in n trials with probability p\n",
    "samples = np.random.binomial(60, 0.1, size=10000)\n",
    "samples"
   ]
  },
  {
   "cell_type": "markdown",
   "metadata": {},
   "source": [
    "#### The Binomial CDF"
   ]
  },
  {
   "cell_type": "code",
   "execution_count": 186,
   "metadata": {},
   "outputs": [
    {
     "data": {
      "image/png": "[encoded data removed]",
      "text/plain": [
       "<matplotlib.figure.Figure at 0x1128ee358>"
      ]
     },
     "metadata": {},
     "output_type": "display_data"
    }
   ],
   "source": [
    "x, y = ecdf(samples)\n",
    "\n",
    "_ = plt.plot(x, y, marker='.', linestyle='none')\n",
    "_ = plt.margins(0.02)\n",
    "_ = plt.xlabel(\"Number of Successes\")\n",
    "_ = plt.ylabel(\"CDF\")\n",
    "\n",
    "plt.show()"
   ]
  },
  {
   "cell_type": "code",
   "execution_count": 189,
   "metadata": {},
   "outputs": [
    {
     "data": {
      "image/png": "[encoded data removed]",
      "text/plain": [
       "<matplotlib.figure.Figure at 0x1146a2fd0>"
      ]
     },
     "metadata": {},
     "output_type": "display_data"
    }
   ],
   "source": [
    "n_defaults = np.random.binomial(100, 0.05, 10000)\n",
    "x, y = ecdf(n_defaults)\n",
    "\n",
    "_ = plt.plot(x, y, marker='.', linestyle='none')\n",
    "_ = plt.xlabel(\"Number of Defaults per 100 Loans\")\n",
    "_ = plt.ylabel(\"CDF\")\n",
    "\n",
    "plt.show()"
   ]
  },
  {
   "cell_type": "markdown",
   "metadata": {},
   "source": [
    "#### The Binomial PMF"
   ]
  },
  {
   "cell_type": "code",
   "execution_count": 191,
   "metadata": {},
   "outputs": [
    {
     "data": {
      "image/png": "[encoded data removed]",
      "text/plain": [
       "<matplotlib.figure.Figure at 0x1150b2d30>"
      ]
     },
     "metadata": {},
     "output_type": "display_data"
    }
   ],
   "source": [
    "bins = np.arange(0, max(n_defaults) + 2) - 0.5\n",
    "\n",
    "_ = plt.hist(n_defaults, normed=True, bins=bins)\n",
    "_ = plt.margins(0.02)\n",
    "_ = plt.xlabel(\"Number of Defaults\")\n",
    "_ = plt.ylabel(\"PMF\")\n",
    "\n",
    "plt.show()"
   ]
  },
  {
   "cell_type": "markdown",
   "metadata": {},
   "source": [
    "#### The Poisson Distribution\n",
    "* Limit of the Binomial Distribution for low probability of success and large number of trials\n",
    "* That is, for rare events\n",
    "\n",
    "* The number r of arrivals of a Poisson process in a given time interval with average rate of $\\lambda$ arrivals per interval is Poisson distributed"
   ]
  },
  {
   "cell_type": "code",
   "execution_count": 193,
   "metadata": {},
   "outputs": [
    {
     "data": {
      "image/png": "[encoded data removed]",
      "text/plain": [
       "<matplotlib.figure.Figure at 0x115a83d30>"
      ]
     },
     "metadata": {},
     "output_type": "display_data"
    }
   ],
   "source": [
    "samples = np.random.poisson(lam=6, size=100000)\n",
    "x, y = ecdf(samples)\n",
    "\n",
    "_ = plt.plot(x, y, marker='.', linestyle='none')\n",
    "_ = plt.margins(0.02)\n",
    "_ = plt.xlabel(\"Number of Successes\")\n",
    "_ = plt.ylabel(\"CDF\")\n",
    "\n",
    "plt.show()"
   ]
  },
  {
   "cell_type": "markdown",
   "metadata": {},
   "source": [
    "#### Relationship between Binomial and Poisson"
   ]
  },
  {
   "cell_type": "code",
   "execution_count": 197,
   "metadata": {},
   "outputs": [
    {
     "name": "stdout",
     "output_type": "stream",
     "text": [
      "Poisson:  9.9514 3.1891751347331176\n",
      "n = 20 Binom: 9.989 2.229815911684191\n",
      "n = 100 Binom: 10.0703 3.005654323105037\n",
      "n = 1000 Binom: 9.9718 3.1237485110040466\n",
      "n = 10000 Binom: 9.957 3.1422843601431114\n",
      "n = 100000 Binom: 9.9785 3.157314958948505\n"
     ]
    }
   ],
   "source": [
    "samples_poisson = np.random.poisson(lam=10, size=10000)\n",
    "\n",
    "print(\"Poisson: \", np.mean(samples_poisson), np.std(samples_poisson))\n",
    "\n",
    "n = [20, 100, 1000, 10000, 100000]\n",
    "p = [0.5, 0.1, 0.01, 0.001, 0.0001]\n",
    "\n",
    "for i in range(5):\n",
    "    samples_binomial = np.random.binomial(n[i], p[i], size=10000)\n",
    "    \n",
    "    print(\"n =\", n[i], \"Binom:\", np.mean(samples_binomial), \n",
    "                                 np.std(samples_binomial))\n"
   ]
  },
  {
   "cell_type": "code",
   "execution_count": 201,
   "metadata": {},
   "outputs": [
    {
     "name": "stdout",
     "output_type": "stream",
     "text": [
      "Probability of 7 or more no-hitters: 0.007\n"
     ]
    }
   ],
   "source": [
    "n_nohitters = np.random.poisson(lam = 251/115, size=10000)\n",
    "\n",
    "n_large = np.sum(n_nohitters >= 7)\n",
    "\n",
    "p_large = n_large/len(n_nohitters)\n",
    "\n",
    "print(\"Probability of 7 or more no-hitters:\", p_large)"
   ]
  },
  {
   "cell_type": "markdown",
   "metadata": {},
   "source": [
    "---\n",
    "# Thinking Probabilistically -- Continuous Variables"
   ]
  },
  {
   "cell_type": "markdown",
   "metadata": {},
   "source": [
    "### Normal Distribution"
   ]
  },
  {
   "cell_type": "code",
   "execution_count": 202,
   "metadata": {},
   "outputs": [
    {
     "data": {
      "image/png": "[encoded data removed]",
      "text/plain": [
       "<matplotlib.figure.Figure at 0x1164d8898>"
      ]
     },
     "metadata": {},
     "output_type": "display_data"
    }
   ],
   "source": [
    "samples_std1 = np.random.normal(20, 1, size=100000)\n",
    "samples_std3 = np.random.normal(20, 3, size=100000)\n",
    "samples_std10 = np.random.normal(20, 10, size=100000)\n",
    "\n",
    "_ = plt.hist(samples_std1, bins=100, normed=True, histtype='step')\n",
    "_ = plt.hist(samples_std3, bins=100, normed=True, histtype='step')\n",
    "_ = plt.hist(samples_std10, bins=100, normed=True, histtype='step')\n",
    "\n",
    "_ = plt.legend(('std = 1', 'std = 3', 'std = 10'))\n",
    "_ = plt.ylim(-0.01, 0.42)\n",
    "\n",
    "plt.show()"
   ]
  },
  {
   "cell_type": "markdown",
   "metadata": {},
   "source": [
    "### Normal CDF"
   ]
  },
  {
   "cell_type": "code",
   "execution_count": 203,
   "metadata": {},
   "outputs": [
    {
     "data": {
      "image/png": "[encoded data removed]",
      "text/plain": [
       "<matplotlib.figure.Figure at 0x1164ac6a0>"
      ]
     },
     "metadata": {},
     "output_type": "display_data"
    }
   ],
   "source": [
    "# Generate CDFs\n",
    "x_std1, y_std1 = ecdf(samples_std1)\n",
    "x_std3, y_std3 = ecdf(samples_std3)\n",
    "x_std10, y_std10 = ecdf(samples_std10)\n",
    "\n",
    "\n",
    "# Plot CDFs\n",
    "_ = plt.plot(x_std1, y_std1, marker='.', linestyle='none')\n",
    "_ = plt.plot(x_std3, y_std3, marker='.', linestyle='none')\n",
    "_ = plt.plot(x_std10, y_std10, marker='.', linestyle='none')\n",
    "\n",
    "# Make 2% margin\n",
    "_ = plt.margins(0.02)\n",
    "\n",
    "# Make a legend and show the plot\n",
    "_ = plt.legend(('std = 1', 'std = 3', 'std = 10'), loc='lower right')\n",
    "plt.show()"
   ]
  },
  {
   "cell_type": "code",
   "execution_count": 213,
   "metadata": {},
   "outputs": [
    {
     "data": {
      "image/png": "[encoded data removed]",
      "text/plain": [
       "<matplotlib.figure.Figure at 0x11511a470>"
      ]
     },
     "metadata": {},
     "output_type": "display_data"
    }
   ],
   "source": [
    "dem_pct = df_swing[df_swing['state'] == 'WV']['pct_dem']\n",
    "# dem_pct = df_swing['pct_dem']\n",
    "\n",
    "\n",
    "mu = np.mean(dem_pct)\n",
    "sigma = np.std(dem_pct)\n",
    "\n",
    "samples = np.random.normal(mu, sigma, size=10000)\n",
    "\n",
    "x_theory, y_theory = ecdf(samples)\n",
    "x, y = ecdf(dem_pct)\n",
    "\n",
    "_ = plt.plot(x_theory, y_theory)\n",
    "_ = plt.plot(x, y, marker='.', linestyle='none')\n",
    "_ = plt.margins(0.02)\n",
    "_ = plt.xlabel(\"Democratic Percentage of Votes\")\n",
    "_ = plt.ylabel(\"CDF\")\n",
    "\n",
    "plt.show()"
   ]
  },
  {
   "cell_type": "code",
   "execution_count": 218,
   "metadata": {},
   "outputs": [
    {
     "name": "stdout",
     "output_type": "stream",
     "text": [
      "Probability of a WV County Voting > 50% Dem: 0.084564\n"
     ]
    }
   ],
   "source": [
    "samples = np.random.normal(mu, sigma, 1000000)\n",
    "prob = np.sum(samples > 50)/len(samples)\n",
    "print(\"Probability of a WV County Voting > 50% Dem:\", prob)"
   ]
  },
  {
   "cell_type": "markdown",
   "metadata": {},
   "source": [
    "### The Exponential Distribution\n",
    "* The waiting times between arrivals of a Poisson process is Exponentially Distributed"
   ]
  },
  {
   "cell_type": "code",
   "execution_count": 219,
   "metadata": {},
   "outputs": [],
   "source": [
    "def successive_poisson(tau1, tau2, size=1):\n",
    "    # Draw samples out of first exponential distribution: t1\n",
    "    t1 = np.random.exponential(tau1, size)\n",
    "\n",
    "    # Draw samples out of second exponential distribution: t2\n",
    "    t2 = np.random.exponential(tau2, size)\n",
    "\n",
    "    return t1 + t2"
   ]
  },
  {
   "cell_type": "code",
   "execution_count": 226,
   "metadata": {},
   "outputs": [
    {
     "data": {
      "image/png": "[encoded data removed]",
      "text/plain": [
       "<matplotlib.figure.Figure at 0x11b66ef28>"
      ]
     },
     "metadata": {},
     "output_type": "display_data"
    }
   ],
   "source": [
    "waiting_times = successive_poisson(100, 110, size=100000)\n",
    "\n",
    "_ = plt.hist(waiting_times, bins=100, normed=True, histtype='step')\n",
    "_ = plt.xlabel(\"Waiting Time\")\n",
    "_ = plt.ylabel(\"PDF\")\n",
    "\n",
    "plt.show()"
   ]
  },
  {
   "cell_type": "code",
   "execution_count": 227,
   "metadata": {},
   "outputs": [
    {
     "data": {
      "image/png": "[encoded data removed]",
      "text/plain": [
       "<matplotlib.figure.Figure at 0x11adf1198>"
      ]
     },
     "metadata": {},
     "output_type": "display_data"
    }
   ],
   "source": [
    "x, y = ecdf(waiting_times)\n",
    "_ = plt.plot(x, y, marker='.', linestyle='none')\n",
    "plt.show()"
   ]
  },
  {
   "cell_type": "markdown",
   "metadata": {},
   "source": [
    "---\n",
    "# Parameter Estimation by Optimization"
   ]
  },
  {
   "cell_type": "code",
   "execution_count": 240,
   "metadata": {},
   "outputs": [
    {
     "data": {
      "image/png": "[encoded data removed]",
      "text/plain": [
       "<matplotlib.figure.Figure at 0x11517b780>"
      ]
     },
     "metadata": {},
     "output_type": "display_data"
    }
   ],
   "source": [
    "nohitter_times = np.random.randint(low = 1, high=5, size=100000)\n",
    "nohitter_times = np.exp(nohitter_times)\n",
    "tau = np.mean(nohitter_times)\n",
    "\n",
    "inter_nohitter_time = np.random.exponential(tau, size=100000)\n",
    "\n",
    "_ = plt.hist(inter_nohitter_time, bins=50, normed=True, histtype='step')\n",
    "_ = plt.xlabel(\"Games between no-hitters\")\n",
    "_ = plt.ylabel(\"PDF\")\n",
    "\n",
    "plt.show()"
   ]
  },
  {
   "cell_type": "code",
   "execution_count": 241,
   "metadata": {},
   "outputs": [
    {
     "data": {
      "image/png": "[encoded data removed]",
      "text/plain": [
       "<matplotlib.figure.Figure at 0x114f10e10>"
      ]
     },
     "metadata": {},
     "output_type": "display_data"
    }
   ],
   "source": [
    "x, y = ecdf(nohitter_times)\n",
    "x_theory, y_theory = ecdf(inter_nohitter_time)\n",
    "\n",
    "_ = plt.plot(x_theory, y_theory)\n",
    "_ = plt.plot(x, y, marker='.', linestyle='none')\n",
    "_ = plt.margins(0.02)\n",
    "_ = plt.xlabel(\"Games between no-hitters\")\n",
    "_ = plt.ylabel(\"CDF\")\n",
    "\n",
    "plt.show()"
   ]
  },
  {
   "cell_type": "markdown",
   "metadata": {},
   "source": [
    "---\n",
    "# Bootstrap Confidence Intervals\n",
    "### Bootstrapping\n",
    "* The use of resampled data to perform statistical inference\n",
    "#### Bootstrap Sample\n",
    "* A resampling of the data\n",
    "#### Bootstrap Replicate\n",
    "* A statistic computed from resampled data"
   ]
  },
  {
   "cell_type": "markdown",
   "metadata": {},
   "source": [
    "### Visualizing Bootstrap Samples"
   ]
  },
  {
   "cell_type": "code",
   "execution_count": 244,
   "metadata": {},
   "outputs": [
    {
     "data": {
      "image/png": "[encoded data removed]",
      "text/plain": [
       "<matplotlib.figure.Figure at 0x119a756a0>"
      ]
     },
     "metadata": {},
     "output_type": "display_data"
    }
   ],
   "source": [
    "dem_pct = df_swing[df_swing['state'] == 'PA']['pct_dem']\n",
    "# dem_pct = df_swing['pct_dem']\n",
    "\n",
    "for _ in range(50):\n",
    "    \n",
    "    bs_sample = np.random.choice(dem_pct, size=len(dem_pct))\n",
    "    x, y = ecdf(bs_sample)\n",
    "    _ = plt.plot(x, y, marker='.', linestyle='none', color='gray',\n",
    "                 alpha=0.1)\n",
    "\n",
    "x, y = ecdf(dem_pct)\n",
    "_ = plt.plot(x, y, marker='.')\n",
    "_ = plt.xlabel(\"Dem Pct\")\n",
    "_ = plt.ylabel(\"ECDF\")\n",
    "\n",
    "plt.show()"
   ]
  },
  {
   "cell_type": "markdown",
   "metadata": {},
   "source": [
    "### Bootstrap Confidence Intervals"
   ]
  },
  {
   "cell_type": "code",
   "execution_count": 249,
   "metadata": {},
   "outputs": [
    {
     "data": {
      "image/png": "[encoded data removed]",
      "text/plain": [
       "<matplotlib.figure.Figure at 0x1194b1f60>"
      ]
     },
     "metadata": {},
     "output_type": "display_data"
    }
   ],
   "source": [
    "def bootstrap_replicate_1d(data, func):\n",
    "    \"\"\"Generate bootstrap replicate of 1D data\"\"\"\n",
    "    bs_sample = np.random.choice(data, len(data))\n",
    "    return func(bs_sample)\n",
    "\n",
    "bs_replicates = np.empty(10000)\n",
    "for i in range(10000):\n",
    "    bs_replicates[i] = bootstrap_replicate_1d(dem_pct, np.mean)\n",
    "    \n",
    "_ = plt.hist(bs_replicates, bins=30, normed=True,\n",
    "             edgecolor=\"k\")\n",
    "_ = plt.xlabel(\"Mean Dem Pct\")\n",
    "_ = plt.ylabel(\"PDF\")\n",
    "\n",
    "plt.show()"
   ]
  },
  {
   "cell_type": "markdown",
   "metadata": {},
   "source": [
    "### Confidence Interval\n",
    "* If we repeated measurements over and over again, p% of the observed values would lie within the p% confidence interval"
   ]
  },
  {
   "cell_type": "markdown",
   "metadata": {},
   "source": [
    "#### 95th Percentile"
   ]
  },
  {
   "cell_type": "code",
   "execution_count": 250,
   "metadata": {},
   "outputs": [
    {
     "data": {
      "text/plain": [
       "array([42.6313209 , 47.25123134])"
      ]
     },
     "execution_count": 250,
     "metadata": {},
     "output_type": "execute_result"
    }
   ],
   "source": [
    "conf_int = np.percentile(bs_replicates, [2.5, 97.5])\n",
    "conf_int"
   ]
  },
  {
   "cell_type": "markdown",
   "metadata": {},
   "source": [
    "### Generating Many Bootstrap Replicates"
   ]
  },
  {
   "cell_type": "code",
   "execution_count": 251,
   "metadata": {},
   "outputs": [],
   "source": [
    "def draw_bs_reps(data, func, size=1):\n",
    "    \n",
    "    bs_replicates = np.empty(size)\n",
    "    \n",
    "    for i in range(size):\n",
    "        bs_replicates[i] = bootstrap_replicate_1d(data, func)\n",
    "    \n",
    "    return bs_replicates"
   ]
  },
  {
   "cell_type": "code",
   "execution_count": 252,
   "metadata": {},
   "outputs": [
    {
     "name": "stdout",
     "output_type": "stream",
     "text": [
      "1.1819625472656696\n",
      "1.1836184883561027\n"
     ]
    },
    {
     "data": {
      "image/png": "[encoded data removed]",
      "text/plain": [
       "<matplotlib.figure.Figure at 0x119842a58>"
      ]
     },
     "metadata": {},
     "output_type": "display_data"
    }
   ],
   "source": [
    "bs_replicates = draw_bs_reps(dem_pct, np.mean, size=10000)\n",
    "\n",
    "# standard error of the mean\n",
    "sem = np.std(dem_pct) / np.sqrt(len(dem_pct))\n",
    "print(sem)\n",
    "\n",
    "bs_std = np.std(bs_replicates)\n",
    "print(bs_std)\n",
    "\n",
    "_ = plt.hist(bs_replicates, bins=50, normed=True, edgecolor=\"k\")\n",
    "_ = plt.xlabel(\"Mean Dem Pct\")\n",
    "_ = plt.ylabel(\"PDF\")\n",
    "\n",
    "plt.show()"
   ]
  },
  {
   "cell_type": "markdown",
   "metadata": {},
   "source": [
    "### Bootstrap Replicates of other Statistics"
   ]
  },
  {
   "cell_type": "code",
   "execution_count": 253,
   "metadata": {},
   "outputs": [
    {
     "data": {
      "image/png": "[encoded data removed]",
      "text/plain": [
       "<matplotlib.figure.Figure at 0x114fa6e10>"
      ]
     },
     "metadata": {},
     "output_type": "display_data"
    }
   ],
   "source": [
    "bs_replicates = draw_bs_reps(dem_pct, np.var, size=10000)\n",
    "\n",
    "_ = plt.hist(bs_replicates, bins=50, normed=True, edgecolor='k')\n",
    "_ = plt.xlabel(\"Variance of Dem Pct\")\n",
    "_ = plt.ylabel(\"PDF\")\n",
    "\n",
    "plt.show()"
   ]
  },
  {
   "cell_type": "markdown",
   "metadata": {},
   "source": [
    "#### Confidence Interval on the Dem Pct"
   ]
  },
  {
   "cell_type": "code",
   "execution_count": 257,
   "metadata": {},
   "outputs": [
    {
     "name": "stdout",
     "output_type": "stream",
     "text": [
      "95% CI = [42.62133955 47.24673881]\n"
     ]
    }
   ],
   "source": [
    "bs_replicates = draw_bs_reps(dem_pct, np.mean, size=10000)\n",
    "conf_int = np.percentile(bs_replicates, [2.5, 97.5])\n",
    "print(\"95% CI =\", conf_int)"
   ]
  },
  {
   "cell_type": "markdown",
   "metadata": {},
   "source": [
    "## Nonparametrics Inference\n",
    "* Make no assumptions about the model or probability distribution underlying the data\n",
    "\n",
    "### Pairs Bootstrap for Linear Regression (1 var)\n",
    "* Resample data in pairs\n",
    "* Compute slope and intercept from resampled data\n",
    "* Each slope and intercept is a bootstrap replicate\n",
    "* Compute confidence intervals from percentiles of bootstrap replicates"
   ]
  },
  {
   "cell_type": "code",
   "execution_count": 258,
   "metadata": {},
   "outputs": [],
   "source": [
    "def draw_bs_pairs_linreg(x, y, size=1):\n",
    "    \n",
    "    inds = np.arange(len(x))\n",
    "    \n",
    "    bs_slope_reps = np.empty(size)\n",
    "    bs_intercept_reps = np.empty(size)\n",
    "    \n",
    "    for i in range(size):\n",
    "        bs_inds = np.random.choice(inds, len(inds))\n",
    "        \n",
    "        bs_x, bs_y = x[bs_inds], y[bs_inds]\n",
    "        bs_slope_reps[i], bs_intercept_reps[i] = polyfit(bs_x, bs_y, 1)\n",
    "        \n",
    "    return bs_slope_reps, bs_intercept_reps"
   ]
  },
  {
   "cell_type": "code",
   "execution_count": 259,
   "metadata": {},
   "outputs": [
    {
     "data": {
      "text/html": [
       "<div>\n",
       "<style scoped>\n",
       "    .dataframe tbody tr th:only-of-type {\n",
       "        vertical-align: middle;\n",
       "    }\n",
       "\n",
       "    .dataframe tbody tr th {\n",
       "        vertical-align: top;\n",
       "    }\n",
       "\n",
       "    .dataframe thead th {\n",
       "        text-align: right;\n",
       "    }\n",
       "</style>\n",
       "<table border=\"1\" class=\"dataframe\">\n",
       "  <thead>\n",
       "    <tr style=\"text-align: right;\">\n",
       "      <th></th>\n",
       "      <th>year</th>\n",
       "      <th>state</th>\n",
       "      <th>county</th>\n",
       "      <th>fips</th>\n",
       "      <th>vote_rep</th>\n",
       "      <th>vote_dem</th>\n",
       "      <th>vote_oth</th>\n",
       "      <th>vote_total</th>\n",
       "      <th>pct_rep</th>\n",
       "      <th>pct_dem</th>\n",
       "      <th>pct_oth</th>\n",
       "      <th>winner</th>\n",
       "      <th>runnerup</th>\n",
       "      <th>pct_winner</th>\n",
       "      <th>margin_winner_over_runnerup</th>\n",
       "    </tr>\n",
       "  </thead>\n",
       "  <tbody>\n",
       "    <tr>\n",
       "      <th>3154</th>\n",
       "      <td>2008</td>\n",
       "      <td>AL</td>\n",
       "      <td>Autauga County</td>\n",
       "      <td>01001</td>\n",
       "      <td>17403</td>\n",
       "      <td>6093</td>\n",
       "      <td>145</td>\n",
       "      <td>23641</td>\n",
       "      <td>73.6</td>\n",
       "      <td>25.8</td>\n",
       "      <td>0.6</td>\n",
       "      <td>rep</td>\n",
       "      <td>dem</td>\n",
       "      <td>73.6</td>\n",
       "      <td>47.8</td>\n",
       "    </tr>\n",
       "    <tr>\n",
       "      <th>3155</th>\n",
       "      <td>2008</td>\n",
       "      <td>AL</td>\n",
       "      <td>Baldwin County</td>\n",
       "      <td>01003</td>\n",
       "      <td>61271</td>\n",
       "      <td>19386</td>\n",
       "      <td>756</td>\n",
       "      <td>81413</td>\n",
       "      <td>75.3</td>\n",
       "      <td>23.8</td>\n",
       "      <td>0.9</td>\n",
       "      <td>rep</td>\n",
       "      <td>dem</td>\n",
       "      <td>75.3</td>\n",
       "      <td>51.5</td>\n",
       "    </tr>\n",
       "  </tbody>\n",
       "</table>\n",
       "</div>"
      ],
      "text/plain": [
       "      year state          county   fips  vote_rep  vote_dem  vote_oth  \\\n",
       "3154  2008    AL  Autauga County  01001     17403      6093       145   \n",
       "3155  2008    AL  Baldwin County  01003     61271     19386       756   \n",
       "\n",
       "      vote_total  pct_rep  pct_dem  pct_oth winner runnerup  pct_winner  \\\n",
       "3154       23641     73.6     25.8      0.6    rep      dem        73.6   \n",
       "3155       81413     75.3     23.8      0.9    rep      dem        75.3   \n",
       "\n",
       "      margin_winner_over_runnerup  \n",
       "3154                         47.8  \n",
       "3155                         51.5  "
      ]
     },
     "execution_count": 259,
     "metadata": {},
     "output_type": "execute_result"
    }
   ],
   "source": [
    "df_swing.head(2)"
   ]
  },
  {
   "cell_type": "code",
   "execution_count": 271,
   "metadata": {},
   "outputs": [
    {
     "data": {
      "text/plain": [
       "(3153, 15)"
      ]
     },
     "execution_count": 271,
     "metadata": {},
     "output_type": "execute_result"
    }
   ],
   "source": [
    "df_swing.shape"
   ]
  },
  {
   "cell_type": "code",
   "execution_count": 285,
   "metadata": {},
   "outputs": [
    {
     "name": "stdout",
     "output_type": "stream",
     "text": [
      "[1.54906228 1.7044271 ]\n"
     ]
    },
    {
     "data": {
      "image/png": "[encoded data removed]",
      "text/plain": [
       "<matplotlib.figure.Figure at 0x1193968d0>"
      ]
     },
     "metadata": {},
     "output_type": "display_data"
    }
   ],
   "source": [
    "from numpy import polyfit\n",
    "\n",
    "df_swing_sub = df_swing[df_swing['vote_dem'] < 750000]\n",
    "\n",
    "x = df_swing_sub['vote_dem'].reset_index(drop=True)\n",
    "y = df_swing_sub['vote_total'].reset_index(drop=True)\n",
    "\n",
    "bs_slope_reps, bs_intercept_reps = draw_bs_pairs_linreg(x, y, size=1000)\n",
    "\n",
    "print(np.percentile(bs_slope_reps, [2.5, 97.5]))\n",
    "\n",
    "_ = plt.hist(bs_slope_reps, bins=50, normed=True, edgecolor='k')\n",
    "_ = plt.xlabel('slope')\n",
    "_ = plt.ylabel('PDF')\n",
    "\n",
    "plt.show()"
   ]
  },
  {
   "cell_type": "code",
   "execution_count": 286,
   "metadata": {},
   "outputs": [
    {
     "data": {
      "text/plain": [
       "[<matplotlib.lines.Line2D at 0x11ab16dd8>]"
      ]
     },
     "execution_count": 286,
     "metadata": {},
     "output_type": "execute_result"
    },
    {
     "data": {
      "image/png": "[encoded data removed]",
      "text/plain": [
       "<matplotlib.figure.Figure at 0x11c183400>"
      ]
     },
     "metadata": {},
     "output_type": "display_data"
    }
   ],
   "source": [
    "plt.plot(x, y, marker='.', linestyle='none')"
   ]
  },
  {
   "cell_type": "markdown",
   "metadata": {},
   "source": [
    "### Plotting Bootstrap Regressions"
   ]
  },
  {
   "cell_type": "code",
   "execution_count": 287,
   "metadata": {},
   "outputs": [
    {
     "data": {
      "image/png": "[encoded data removed]",
      "text/plain": [
       "<matplotlib.figure.Figure at 0x116a18588>"
      ]
     },
     "metadata": {},
     "output_type": "display_data"
    }
   ],
   "source": [
    "xx = np.array([0, np.max(x)])\n",
    "\n",
    "for i in range(100):\n",
    "    \n",
    "    _ = plt.plot(xx, bs_slope_reps[i]*xx + bs_intercept_reps[i],\n",
    "                 linewidth=0.5, alpha=0.2, color='red')\n",
    "    \n",
    "_ = plt.plot(x, y, marker='.', linestyle='none')\n",
    "_ = plt.margins(0.02)\n",
    "\n",
    "plt.show()"
   ]
  },
  {
   "cell_type": "markdown",
   "metadata": {},
   "source": [
    "---\n",
    "# Hypothesis Testing\n",
    "* Assessment of how reasonable the observed data are assuming the hypothesis is true"
   ]
  },
  {
   "cell_type": "code",
   "execution_count": 301,
   "metadata": {},
   "outputs": [
    {
     "data": {
      "image/png": "[encoded data removed]",
      "text/plain": [
       "<matplotlib.figure.Figure at 0x11b6bb7b8>"
      ]
     },
     "metadata": {},
     "output_type": "display_data"
    }
   ],
   "source": [
    "oh = df_swing[df_swing['state'] == 'OH']['pct_dem']\n",
    "pa = df_swing[df_swing['state'] == 'PA']['pct_dem']\n",
    "ca = df_swing[df_swing['state'] == 'CA']['pct_dem']\n",
    "al = df_swing[df_swing['state'] == 'AL']['pct_dem']\n",
    "\n",
    "x_oh, y_oh = ecdf(oh)\n",
    "x_pa, y_pa = ecdf(pa)\n",
    "\n",
    "_ = plt.plot(x_oh, y_oh, marker='.', linestyle='none', label=\"OH\")\n",
    "_ = plt.plot(x_pa, y_pa, marker='.', linestyle='none', label=\"PA\")\n",
    "_ = plt.margins(0.02)\n",
    "_ = plt.xlabel(\"Percent of vote for Obama\")\n",
    "_ = plt.ylabel(\"ECDF\")\n",
    "_ = plt.legend(loc=\"best\")\n",
    "\n",
    "plt.show()"
   ]
  },
  {
   "cell_type": "markdown",
   "metadata": {},
   "source": [
    "### Simulate the Hypothesis\n",
    "* Null Hypothesis -- OH and PA are identically distributed \n",
    "* Use permutation (random reordering of entries in an array) \n",
    "* Heart of simulating the null hypothesis"
   ]
  },
  {
   "cell_type": "code",
   "execution_count": 295,
   "metadata": {},
   "outputs": [],
   "source": [
    "dem_share_both = np.concatenate((pa, oh))\n",
    "dem_share_perm = np.random.permutation(dem_share_both)\n",
    "\n",
    "perm_sample_PA = dem_share_perm[:len(pa)]\n",
    "perm_sample_OH = dem_share_perm[len(pa):]"
   ]
  },
  {
   "cell_type": "code",
   "execution_count": 302,
   "metadata": {},
   "outputs": [],
   "source": [
    "def permutation_sample(data1, data2):\n",
    "    \n",
    "    data = np.concatenate((data1, data2))\n",
    "    \n",
    "    permuted_data = np.random.permutation(data)\n",
    "    \n",
    "    perm_sample_1 = permuted_data[:len(data1)]\n",
    "    perm_sample_2 = permuted_data[len(data1):]\n",
    "    \n",
    "    return perm_sample_1, perm_sample_2"
   ]
  },
  {
   "cell_type": "code",
   "execution_count": 314,
   "metadata": {},
   "outputs": [
    {
     "data": {
      "image/png": "[encoded data removed]",
      "text/plain": [
       "<matplotlib.figure.Figure at 0x11cebc278>"
      ]
     },
     "metadata": {},
     "output_type": "display_data"
    }
   ],
   "source": [
    "for _ in range(50):\n",
    "    perm_sample_1, perm_sample_2 = permutation_sample(pa, ca)\n",
    "    x_1, y_1 = ecdf(perm_sample_1)\n",
    "    x_2, y_2 = ecdf(perm_sample_2)\n",
    "    \n",
    "    _ = plt.plot(x_1, y_1, marker='.', linestyle='none',\n",
    "                 color='red', alpha=0.02)\n",
    "    _ = plt.plot(x_2, y_2, marker='.', linestyle='none',\n",
    "                 color='blue', alpha=0.02)\n",
    "\n",
    "x_1, y_1 = ecdf(pa)\n",
    "x_2, y_2 = ecdf(ca)\n",
    "\n",
    "_ = plt.plot(x_1, y_1, marker='.', linestyle='none', color='red')\n",
    "_ = plt.plot(x_2, y_2, marker='.', linestyle='none', color='blue')\n",
    "\n",
    "_ = plt.margins(0.02)\n",
    "_ = plt.xlabel(\"Percent votes for Obama\")\n",
    "_ = plt.ylabel(\"ECDF\")\n",
    "\n",
    "plt.show()"
   ]
  },
  {
   "cell_type": "markdown",
   "metadata": {},
   "source": [
    "#### Conclusion: Not from the same distribution"
   ]
  },
  {
   "cell_type": "markdown",
   "metadata": {},
   "source": [
    "## Test Statistics & p-Values\n",
    "* Test Statistic: A single number that can be computed from observed data and from data you simulate under the null hypothesis\n",
    "* It serves as a basis of comparision between the two\n",
    "\n",
    "* If the two states are equal, their mean vote share should be equal, and so the difference should be 0\n",
    "* We will use the difference in means as our test statistic\n",
    "\n",
    "#### Permutation Replicate"
   ]
  },
  {
   "cell_type": "code",
   "execution_count": 335,
   "metadata": {},
   "outputs": [
    {
     "name": "stdout",
     "output_type": "stream",
     "text": [
      "Permuted Mean Diff: -2.442879918588879\n",
      "Actual Mean Diff: 1.4754969470827746\n"
     ]
    }
   ],
   "source": [
    "pa_perm, oh_perm = permutation_sample(pa, oh)\n",
    "print(\"Permuted Mean Diff:\", np.mean(pa_perm) - np.mean(oh_perm))\n",
    "print(\"Actual Mean Diff:\", np.mean(pa) - np.mean(oh))"
   ]
  },
  {
   "cell_type": "markdown",
   "metadata": {},
   "source": [
    "#### p-value\n",
    "* Probability of obtaining a value of your test statistic that is at least as extreme as what was observed, under the assumption the null hypothesis is true"
   ]
  },
  {
   "cell_type": "markdown",
   "metadata": {},
   "source": [
    "### Generating Permutation Replicates"
   ]
  },
  {
   "cell_type": "code",
   "execution_count": 329,
   "metadata": {},
   "outputs": [],
   "source": [
    "def draw_perm_reps(data_1, data_2, func, size=1):\n",
    "    \n",
    "    perm_replicates = np.empty(size)\n",
    "    \n",
    "    for i in range(size):\n",
    "        perm_sample_1, perm_sample_2 = permutation_sample(data_1, data_2)\n",
    "        perm_replicates[i] = func(perm_sample_1, perm_sample_2)\n",
    "        \n",
    "    return perm_replicates"
   ]
  },
  {
   "cell_type": "code",
   "execution_count": 330,
   "metadata": {},
   "outputs": [],
   "source": [
    "def diff_of_means(data_1, data_2):\n",
    "    \n",
    "    diff = np.mean(data_1) - np.mean(data_2)\n",
    "    \n",
    "    return diff"
   ]
  },
  {
   "cell_type": "code",
   "execution_count": 367,
   "metadata": {},
   "outputs": [
    {
     "name": "stdout",
     "output_type": "stream",
     "text": [
      "1.4754969470827746\n",
      "p-value =  0.1732\n"
     ]
    }
   ],
   "source": [
    "empirical_diff_means = diff_of_means(pa, oh)\n",
    "print(empirical_diff_means)\n",
    "perm_replicates = draw_perm_reps(pa, oh, diff_of_means, size=10000)\n",
    "\n",
    "p = np.sum(perm_replicates >= empirical_diff_means) / len(perm_replicates)\n",
    "\n",
    "print(\"p-value = \", p)"
   ]
  },
  {
   "cell_type": "code",
   "execution_count": 366,
   "metadata": {},
   "outputs": [
    {
     "data": {
      "image/png": "[encoded data removed]",
      "text/plain": [
       "<matplotlib.figure.Figure at 0x11c878b00>"
      ]
     },
     "metadata": {},
     "output_type": "display_data"
    }
   ],
   "source": [
    "_ = plt.hist(perm_replicates, bins=50)\n",
    "plt.show()"
   ]
  },
  {
   "cell_type": "markdown",
   "metadata": {},
   "source": [
    "### Bootstrap Hypothesis Tests\n",
    "#### Pipeline for Hypothesis Testing\n",
    "* Clearly state the null hypothesis\n",
    "* Define your test statistic\n",
    "* Generate many sets of simulated data assuming the null hypothesis is true\n",
    "* Compute the test statistic for each simulated dataset\n",
    "* The p-value is the fraction of your simulated data sets for which the test statistic is at least as extreme as for the real data"
   ]
  },
  {
   "cell_type": "code",
   "execution_count": 346,
   "metadata": {},
   "outputs": [
    {
     "data": {
      "text/plain": [
       "53.14310344827586"
      ]
     },
     "execution_count": 346,
     "metadata": {},
     "output_type": "execute_result"
    }
   ],
   "source": [
    "# Someone reports CA dem pct mean is 60%\n",
    "np.mean(ca)"
   ]
  },
  {
   "cell_type": "code",
   "execution_count": 361,
   "metadata": {},
   "outputs": [
    {
     "name": "stdout",
     "output_type": "stream",
     "text": [
      "56.0\n"
     ]
    },
    {
     "data": {
      "image/png": "[encoded data removed]",
      "text/plain": [
       "<matplotlib.figure.Figure at 0x11cf544e0>"
      ]
     },
     "metadata": {},
     "output_type": "display_data"
    }
   ],
   "source": [
    "# Shift the data\n",
    "reported_mean = 56\n",
    "ca_shifted = ca - np.mean(ca) + reported_mean\n",
    "\n",
    "print(np.mean(ca_shifted))\n",
    "\n",
    "x, y = ecdf(ca)\n",
    "x_sh, y_sh = ecdf(ca_shifted)\n",
    "\n",
    "_ = plt.plot(x, y, marker='.', linestyle='none', label=\"Original\")\n",
    "_ = plt.plot(x_sh, y_sh, marker='.', linestyle='none', label=\"Shifted\")\n",
    "_ = plt.legend(loc='best')\n",
    "\n",
    "plt.show()"
   ]
  },
  {
   "cell_type": "code",
   "execution_count": 363,
   "metadata": {},
   "outputs": [
    {
     "data": {
      "text/plain": [
       "-2.856896551724141"
      ]
     },
     "execution_count": 363,
     "metadata": {},
     "output_type": "execute_result"
    }
   ],
   "source": [
    "# Now use bootstrapping on the shifted data\n",
    "\n",
    "def diff_from_reported(data, reported_mean = 56):\n",
    "    \n",
    "    return np.mean(data) - reported_mean\n",
    "\n",
    "diff_obs = diff_from_reported(ca)\n",
    "diff_obs"
   ]
  },
  {
   "cell_type": "code",
   "execution_count": 372,
   "metadata": {},
   "outputs": [
    {
     "data": {
      "text/plain": [
       "0.0404"
      ]
     },
     "execution_count": 372,
     "metadata": {},
     "output_type": "execute_result"
    }
   ],
   "source": [
    "# Use shifted because shifted are what we use to simulate null hypothesis\n",
    "bs_replicates = draw_bs_reps(ca_shifted, diff_from_reported, 10000)\n",
    "\n",
    "p_value = np.sum(bs_replicates <= diff_obs) / 10000\n",
    "p_value"
   ]
  },
  {
   "cell_type": "code",
   "execution_count": 371,
   "metadata": {},
   "outputs": [
    {
     "data": {
      "image/png": "[encoded data removed]",
      "text/plain": [
       "<matplotlib.figure.Figure at 0x11c950048>"
      ]
     },
     "metadata": {},
     "output_type": "display_data"
    }
   ],
   "source": [
    "_ = plt.hist(bs_replicates, bins=50)"
   ]
  },
  {
   "cell_type": "markdown",
   "metadata": {},
   "source": [
    "### A one-sample Bootstrap Hypothesis Test"
   ]
  },
  {
   "cell_type": "code",
   "execution_count": 379,
   "metadata": {},
   "outputs": [
    {
     "name": "stdout",
     "output_type": "stream",
     "text": [
      "p =  0.0093\n",
      "53.14310344827586\n"
     ]
    }
   ],
   "source": [
    "# Test: the mean of ca is equal to reported ca mean\n",
    "\n",
    "ca_shifted = ca + 49 - np.mean(ca)\n",
    "\n",
    "bs_replicates = draw_bs_reps(ca_shifted, np.mean, 10000)\n",
    "\n",
    "p = np.sum(bs_replicates >= np.mean(ca)) / 10000\n",
    "\n",
    "print(\"p = \", p)\n",
    "print(np.mean(ca))"
   ]
  },
  {
   "cell_type": "code",
   "execution_count": 380,
   "metadata": {},
   "outputs": [
    {
     "data": {
      "image/png": "[encoded data removed]",
      "text/plain": [
       "<matplotlib.figure.Figure at 0x11c9a3c88>"
      ]
     },
     "metadata": {},
     "output_type": "display_data"
    }
   ],
   "source": [
    "_ = plt.hist(bs_replicates, bins=50)"
   ]
  },
  {
   "cell_type": "markdown",
   "metadata": {},
   "source": [
    "### A bootstrap test for identical distributions"
   ]
  },
  {
   "cell_type": "code",
   "execution_count": 392,
   "metadata": {},
   "outputs": [
    {
     "name": "stdout",
     "output_type": "stream",
     "text": [
      "p =  0.1821\n"
     ]
    }
   ],
   "source": [
    "empirical_diff_means = diff_of_means(pa, oh)\n",
    "\n",
    "data_concat = np.concatenate((pa, oh))\n",
    "\n",
    "bs_replicates = np.empty(10000)\n",
    "\n",
    "for i in range(10000):\n",
    "    \n",
    "    bs_sample = np.random.choice(data_concat, size=len(data_concat))\n",
    "    bs_replicates[i] = diff_of_means(bs_sample[:len(pa)],\n",
    "                                     bs_sample[len(pa):])\n",
    "\n",
    "p = np.sum(bs_replicates >= empirical_diff_means)/len(bs_replicates)\n",
    "print(\"p = \", p)"
   ]
  },
  {
   "cell_type": "code",
   "execution_count": 393,
   "metadata": {},
   "outputs": [
    {
     "data": {
      "text/plain": [
       "1.4754969470827746"
      ]
     },
     "execution_count": 393,
     "metadata": {},
     "output_type": "execute_result"
    }
   ],
   "source": [
    "empirical_diff_means"
   ]
  },
  {
   "cell_type": "code",
   "execution_count": 394,
   "metadata": {},
   "outputs": [
    {
     "data": {
      "image/png": "[encoded data removed]",
      "text/plain": [
       "<matplotlib.figure.Figure at 0x116d92630>"
      ]
     },
     "metadata": {},
     "output_type": "display_data"
    }
   ],
   "source": [
    "_ = plt.hist(bs_replicates, bins=50)"
   ]
  },
  {
   "cell_type": "markdown",
   "metadata": {},
   "source": [
    "### A two-sample bootstrap hypothesis test for difference of means"
   ]
  },
  {
   "cell_type": "code",
   "execution_count": 395,
   "metadata": {},
   "outputs": [
    {
     "name": "stdout",
     "output_type": "stream",
     "text": [
      "p =  0.1713\n"
     ]
    }
   ],
   "source": [
    "mean_all = np.mean(data_concat)\n",
    "\n",
    "pa_shifted = pa - np.mean(pa) + mean_all\n",
    "oh_shifted = oh - np.mean(oh) + mean_all\n",
    "\n",
    "bs_replicates_pa = draw_bs_reps(pa_shifted, np.mean, size=10000)\n",
    "bs_replicates_oh = draw_bs_reps(oh_shifted, np.mean, size=10000)\n",
    "\n",
    "bs_replicates = bs_replicates_pa - bs_replicates_oh\n",
    "\n",
    "p_value = np.sum(bs_replicates >= empirical_diff_means)/len(bs_replicates)\n",
    "\n",
    "print(\"p = \", p_value)"
   ]
  },
  {
   "cell_type": "markdown",
   "metadata": {},
   "source": [
    "#### The hypothesis that the means are equal as opposed to having identical distributions gives a somewhat larger p-value"
   ]
  },
  {
   "cell_type": "markdown",
   "metadata": {},
   "source": [
    "---\n",
    "# AB Testing"
   ]
  },
  {
   "cell_type": "code",
   "execution_count": 397,
   "metadata": {},
   "outputs": [
    {
     "name": "stdout",
     "output_type": "stream",
     "text": [
      "0.0003\n"
     ]
    }
   ],
   "source": [
    "dems = np.array([True]*153 + [False]*91)\n",
    "reps = np.array([True]*136 + [False]*35)\n",
    "\n",
    "def frac_yay_dems(dems, reps):\n",
    "    \n",
    "    frac = np.sum(dems)/len(dems)\n",
    "    \n",
    "    return frac\n",
    "\n",
    "perm_replicates = draw_perm_reps(dems, reps, frac_yay_dems, size=10000)\n",
    "\n",
    "p = np.sum(perm_replicates <= 153/244)/len(perm_replicates)\n",
    "print(p)"
   ]
  },
  {
   "cell_type": "markdown",
   "metadata": {},
   "source": [
    "### Test of Correlation\n",
    "\n",
    "* Posit null hypothesis: the two variables are completely uncorrelated\n",
    "* Simulate the data assuming the null hypothesis is true\n",
    "* Use Pearson correlation, $\\rho$, as a test statistic\n",
    "* Compute p-value as fraction of replicates that have $\\rho$ at least as large as observed"
   ]
  },
  {
   "cell_type": "code",
   "execution_count": 398,
   "metadata": {},
   "outputs": [
    {
     "name": "stdout",
     "output_type": "stream",
     "text": [
      "0.0\n"
     ]
    }
   ],
   "source": [
    "x = df_swing_sub['vote_dem'].reset_index(drop=True)\n",
    "y = df_swing_sub['vote_total'].reset_index(drop=True)\n",
    "\n",
    "r_obs = pearson_r(x, y)\n",
    "\n",
    "perm_replicates = np.empty(10000)\n",
    "\n",
    "for i in range(10000):\n",
    "    x_perm = np.random.permutation(x)\n",
    "    perm_replicates[i] = pearson_r(x_perm, y)\n",
    "\n",
    "p = np.sum(perm_replicates >= r_obs)/len(perm_replicates)\n",
    "print(p)"
   ]
  },
  {
   "cell_type": "code",
   "execution_count": null,
   "metadata": {},
   "outputs": [],
   "source": [
    "+-----------+-----------+------------+\n",
    "| Member_id | Company   | Year_Start |\n",
    "+-----------+-----------+------------+\n",
    "| 1         | Microsoft | 2000       |\n",
    "| 1         | Google    | 2006       |\n",
    "| 1         | Facebook  | 2012       |\n",
    "| 2         | Microsoft | 2001       |\n",
    "| 2         | Oracle    | 2004       |\n",
    "| 2         | Google    | 2007       |"
   ]
  },
  {
   "cell_type": "code",
   "execution_count": null,
   "metadata": {},
   "outputs": [],
   "source": []
  }
 ],
 "metadata": {
  "kernelspec": {
   "display_name": "Python [conda env:py35]",
   "language": "python",
   "name": "conda-env-py35-py"
  },
  "language_info": {
   "codemirror_mode": {
    "name": "ipython",
    "version": 3
   },
   "file_extension": ".py",
   "mimetype": "text/x-python",
   "name": "python",
   "nbconvert_exporter": "python",
   "pygments_lexer": "ipython3",
   "version": "3.5.4"
  }
 },
 "nbformat": 4,
 "nbformat_minor": 2
}
